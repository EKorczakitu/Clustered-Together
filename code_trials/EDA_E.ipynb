{
 "cells": [
  {
   "cell_type": "code",
   "execution_count": 56,
   "id": "1690b3b1",
   "metadata": {},
   "outputs": [],
   "source": [
    "import pandas as pd\n",
    "import numpy as np\n",
    "import matplotlib.pyplot as plt"
   ]
  },
  {
   "cell_type": "code",
   "execution_count": 81,
   "id": "d824cb17",
   "metadata": {},
   "outputs": [],
   "source": [
    "train_c = pd.read_csv(\"data/claims_train.csv\")\n",
    "test_c = pd.read_csv(\"data/claims_train.csv\")\n"
   ]
  },
  {
   "cell_type": "code",
   "execution_count": 65,
   "id": "96374f85",
   "metadata": {},
   "outputs": [
    {
     "name": "stdout",
     "output_type": "stream",
     "text": [
      "Porteføljerate (train): 0.1007, rækker: 541416\n"
     ]
    }
   ],
   "source": [
    "# Antag at train_c (og evt. test_c) allerede er loaded.\n",
    "train_c = train_c[train_c[\"Exposure\"] <= 1].copy()\n",
    "\n",
    "ID_COL = \"IDpol\"\n",
    "CATEGORICAL_COLS = [\"Area\",\"VehBrand\",\"VehGas\",\"Region\"]\n",
    "NUM_COLS = [\"VehPower\",\"VehAge\",\"DrivAge\",\"BonusMalus\",\"Density\"]\n",
    "\n",
    "# Rate og vægt\n",
    "train_c[\"rate\"] = train_c[\"ClaimNb\"] / train_c[\"Exposure\"]\n",
    "portfolio_rate = train_c[\"ClaimNb\"].sum() / train_c[\"Exposure\"].sum()\n",
    "print(f\"Porteføljerate (train): {portfolio_rate:.4f}, rækker: {len(train_c)}\")\n"
   ]
  },
  {
   "cell_type": "code",
   "execution_count": 66,
   "id": "a2493d54",
   "metadata": {},
   "outputs": [
    {
     "data": {
      "application/vnd.microsoft.datawrangler.viewer.v0+json": {
       "columns": [
        {
         "name": "index",
         "rawType": "object",
         "type": "string"
        },
        {
         "name": "værdi",
         "rawType": "float64",
         "type": "float"
        }
       ],
       "ref": "da79cc86-b1cc-4835-91c4-e849a72ddce1",
       "rows": [
        [
         "Porteføljerate",
         "0.10068970554802559"
        ],
        [
         "Andel 0 skader",
         "0.9498167767483783"
        ]
       ],
       "shape": {
        "columns": 1,
        "rows": 2
       }
      },
      "text/html": [
       "<div>\n",
       "<style scoped>\n",
       "    .dataframe tbody tr th:only-of-type {\n",
       "        vertical-align: middle;\n",
       "    }\n",
       "\n",
       "    .dataframe tbody tr th {\n",
       "        vertical-align: top;\n",
       "    }\n",
       "\n",
       "    .dataframe thead th {\n",
       "        text-align: right;\n",
       "    }\n",
       "</style>\n",
       "<table border=\"1\" class=\"dataframe\">\n",
       "  <thead>\n",
       "    <tr style=\"text-align: right;\">\n",
       "      <th></th>\n",
       "      <th>værdi</th>\n",
       "    </tr>\n",
       "  </thead>\n",
       "  <tbody>\n",
       "    <tr>\n",
       "      <th>Porteføljerate</th>\n",
       "      <td>0.100690</td>\n",
       "    </tr>\n",
       "    <tr>\n",
       "      <th>Andel 0 skader</th>\n",
       "      <td>0.949817</td>\n",
       "    </tr>\n",
       "  </tbody>\n",
       "</table>\n",
       "</div>"
      ],
      "text/plain": [
       "                   værdi\n",
       "Porteføljerate  0.100690\n",
       "Andel 0 skader  0.949817"
      ]
     },
     "metadata": {},
     "output_type": "display_data"
    },
    {
     "data": {
      "application/vnd.microsoft.datawrangler.viewer.v0+json": {
       "columns": [
        {
         "name": "ClaimNb",
         "rawType": "int64",
         "type": "integer"
        },
        {
         "name": "antal",
         "rawType": "int64",
         "type": "integer"
        }
       ],
       "ref": "8dc457eb-0e48-4760-b30c-38f669db9152",
       "rows": [
        [
         "0",
         "514246"
        ],
        [
         "1",
         "25679"
        ],
        [
         "2",
         "1414"
        ],
        [
         "3",
         "67"
        ],
        [
         "4",
         "4"
        ],
        [
         "5",
         "2"
        ],
        [
         "6",
         "1"
        ],
        [
         "9",
         "1"
        ],
        [
         "11",
         "2"
        ]
       ],
       "shape": {
        "columns": 1,
        "rows": 9
       }
      },
      "text/html": [
       "<div>\n",
       "<style scoped>\n",
       "    .dataframe tbody tr th:only-of-type {\n",
       "        vertical-align: middle;\n",
       "    }\n",
       "\n",
       "    .dataframe tbody tr th {\n",
       "        vertical-align: top;\n",
       "    }\n",
       "\n",
       "    .dataframe thead th {\n",
       "        text-align: right;\n",
       "    }\n",
       "</style>\n",
       "<table border=\"1\" class=\"dataframe\">\n",
       "  <thead>\n",
       "    <tr style=\"text-align: right;\">\n",
       "      <th></th>\n",
       "      <th>antal</th>\n",
       "    </tr>\n",
       "    <tr>\n",
       "      <th>ClaimNb</th>\n",
       "      <th></th>\n",
       "    </tr>\n",
       "  </thead>\n",
       "  <tbody>\n",
       "    <tr>\n",
       "      <th>0</th>\n",
       "      <td>514246</td>\n",
       "    </tr>\n",
       "    <tr>\n",
       "      <th>1</th>\n",
       "      <td>25679</td>\n",
       "    </tr>\n",
       "    <tr>\n",
       "      <th>2</th>\n",
       "      <td>1414</td>\n",
       "    </tr>\n",
       "    <tr>\n",
       "      <th>3</th>\n",
       "      <td>67</td>\n",
       "    </tr>\n",
       "    <tr>\n",
       "      <th>4</th>\n",
       "      <td>4</td>\n",
       "    </tr>\n",
       "    <tr>\n",
       "      <th>5</th>\n",
       "      <td>2</td>\n",
       "    </tr>\n",
       "    <tr>\n",
       "      <th>6</th>\n",
       "      <td>1</td>\n",
       "    </tr>\n",
       "    <tr>\n",
       "      <th>9</th>\n",
       "      <td>1</td>\n",
       "    </tr>\n",
       "    <tr>\n",
       "      <th>11</th>\n",
       "      <td>2</td>\n",
       "    </tr>\n",
       "  </tbody>\n",
       "</table>\n",
       "</div>"
      ],
      "text/plain": [
       "          antal\n",
       "ClaimNb        \n",
       "0        514246\n",
       "1         25679\n",
       "2          1414\n",
       "3            67\n",
       "4             4\n",
       "5             2\n",
       "6             1\n",
       "9             1\n",
       "11            2"
      ]
     },
     "metadata": {},
     "output_type": "display_data"
    }
   ],
   "source": [
    "zero_share = (train_c[\"ClaimNb\"]==0).mean()\n",
    "counts = (train_c[\"ClaimNb\"].value_counts()\n",
    "          .sort_index()\n",
    "          .to_frame(\"antal\"))\n",
    "summary = pd.Series({\n",
    "    \"Porteføljerate\": portfolio_rate,\n",
    "    \"Andel 0 skader\": zero_share\n",
    "})\n",
    "display(summary.to_frame(\"værdi\"))\n",
    "display(counts.head(10))"
   ]
  },
  {
   "cell_type": "code",
   "execution_count": 67,
   "id": "8fa60d66",
   "metadata": {},
   "outputs": [
    {
     "name": "stdout",
     "output_type": "stream",
     "text": [
      "Area: 6 levels, hvoraf 0 er 'rare' (<1000)\n",
      "VehBrand: 11 levels, hvoraf 0 er 'rare' (<1000)\n",
      "VehGas: 2 levels, hvoraf 0 er 'rare' (<1000)\n",
      "Region: 22 levels, hvoraf 0 er 'rare' (<1000)\n"
     ]
    },
    {
     "data": {
      "text/plain": [
       "{'Area': Empty DataFrame\n",
       " Columns: [count, is_rare]\n",
       " Index: [],\n",
       " 'VehBrand': Empty DataFrame\n",
       " Columns: [count, is_rare]\n",
       " Index: [],\n",
       " 'VehGas': Empty DataFrame\n",
       " Columns: [count, is_rare]\n",
       " Index: [],\n",
       " 'Region': Empty DataFrame\n",
       " Columns: [count, is_rare]\n",
       " Index: []}"
      ]
     },
     "metadata": {},
     "output_type": "display_data"
    }
   ],
   "source": [
    "# Kardinalitet pr. kategori og andel \"små\" levels\n",
    "card = {c: train_c[c].nunique() for c in CATEGORICAL_COLS}\n",
    "rare_tables = {}\n",
    "for c in CATEGORICAL_COLS:\n",
    "    vc = train_c[c].value_counts()\n",
    "    rare = vc[vc < 1000]   # tærskel kan justeres efter porteføljestørrelse\n",
    "    rare_tables[c] = pd.DataFrame({\"count\": vc, \"is_rare\": vc.index.isin(rare.index)})\n",
    "    print(f\"{c}: {card[c]} levels, hvoraf {len(rare)} er 'rare' (<1000)\")\n",
    "display({k: v[v[\"is_rare\"]].head(10) for k,v in rare_tables.items()})\n"
   ]
  },
  {
   "cell_type": "code",
   "execution_count": 69,
   "id": "ff80affe",
   "metadata": {},
   "outputs": [
    {
     "data": {
      "application/vnd.microsoft.datawrangler.viewer.v0+json": {
       "columns": [
        {
         "name": "index",
         "rawType": "object",
         "type": "string"
        },
        {
         "name": "min",
         "rawType": "int64",
         "type": "integer"
        },
        {
         "name": "p01",
         "rawType": "float64",
         "type": "float"
        },
        {
         "name": "p05",
         "rawType": "float64",
         "type": "float"
        },
        {
         "name": "p50",
         "rawType": "float64",
         "type": "float"
        },
        {
         "name": "p75",
         "rawType": "float64",
         "type": "float"
        },
        {
         "name": "p95",
         "rawType": "float64",
         "type": "float"
        },
        {
         "name": "p99",
         "rawType": "float64",
         "type": "float"
        },
        {
         "name": "max",
         "rawType": "int64",
         "type": "integer"
        }
       ],
       "ref": "44dd2af1-9cbc-4e96-a696-f07cf31ef42b",
       "rows": [
        [
         "VehPower",
         "4",
         "4.0",
         "4.0",
         "6.0",
         "7.0",
         "11.0",
         "13.0",
         "15"
        ],
        [
         "VehAge",
         "0",
         "0.0",
         "0.0",
         "6.0",
         "11.0",
         "17.0",
         "21.0",
         "100"
        ],
        [
         "DrivAge",
         "18",
         "20.0",
         "25.0",
         "44.0",
         "55.0",
         "72.0",
         "80.0",
         "100"
        ],
        [
         "BonusMalus",
         "50",
         "50.0",
         "50.0",
         "50.0",
         "64.0",
         "95.0",
         "106.0",
         "230"
        ],
        [
         "Density",
         "1",
         "10.0",
         "20.0",
         "393.0",
         "1662.0",
         "7313.0",
         "27000.0",
         "27000"
        ]
       ],
       "shape": {
        "columns": 8,
        "rows": 5
       }
      },
      "text/html": [
       "<div>\n",
       "<style scoped>\n",
       "    .dataframe tbody tr th:only-of-type {\n",
       "        vertical-align: middle;\n",
       "    }\n",
       "\n",
       "    .dataframe tbody tr th {\n",
       "        vertical-align: top;\n",
       "    }\n",
       "\n",
       "    .dataframe thead th {\n",
       "        text-align: right;\n",
       "    }\n",
       "</style>\n",
       "<table border=\"1\" class=\"dataframe\">\n",
       "  <thead>\n",
       "    <tr style=\"text-align: right;\">\n",
       "      <th></th>\n",
       "      <th>min</th>\n",
       "      <th>p01</th>\n",
       "      <th>p05</th>\n",
       "      <th>p50</th>\n",
       "      <th>p75</th>\n",
       "      <th>p95</th>\n",
       "      <th>p99</th>\n",
       "      <th>max</th>\n",
       "    </tr>\n",
       "  </thead>\n",
       "  <tbody>\n",
       "    <tr>\n",
       "      <th>VehPower</th>\n",
       "      <td>4</td>\n",
       "      <td>4.0</td>\n",
       "      <td>4.0</td>\n",
       "      <td>6.0</td>\n",
       "      <td>7.0</td>\n",
       "      <td>11.0</td>\n",
       "      <td>13.0</td>\n",
       "      <td>15</td>\n",
       "    </tr>\n",
       "    <tr>\n",
       "      <th>VehAge</th>\n",
       "      <td>0</td>\n",
       "      <td>0.0</td>\n",
       "      <td>0.0</td>\n",
       "      <td>6.0</td>\n",
       "      <td>11.0</td>\n",
       "      <td>17.0</td>\n",
       "      <td>21.0</td>\n",
       "      <td>100</td>\n",
       "    </tr>\n",
       "    <tr>\n",
       "      <th>DrivAge</th>\n",
       "      <td>18</td>\n",
       "      <td>20.0</td>\n",
       "      <td>25.0</td>\n",
       "      <td>44.0</td>\n",
       "      <td>55.0</td>\n",
       "      <td>72.0</td>\n",
       "      <td>80.0</td>\n",
       "      <td>100</td>\n",
       "    </tr>\n",
       "    <tr>\n",
       "      <th>BonusMalus</th>\n",
       "      <td>50</td>\n",
       "      <td>50.0</td>\n",
       "      <td>50.0</td>\n",
       "      <td>50.0</td>\n",
       "      <td>64.0</td>\n",
       "      <td>95.0</td>\n",
       "      <td>106.0</td>\n",
       "      <td>230</td>\n",
       "    </tr>\n",
       "    <tr>\n",
       "      <th>Density</th>\n",
       "      <td>1</td>\n",
       "      <td>10.0</td>\n",
       "      <td>20.0</td>\n",
       "      <td>393.0</td>\n",
       "      <td>1662.0</td>\n",
       "      <td>7313.0</td>\n",
       "      <td>27000.0</td>\n",
       "      <td>27000</td>\n",
       "    </tr>\n",
       "  </tbody>\n",
       "</table>\n",
       "</div>"
      ],
      "text/plain": [
       "            min   p01   p05    p50     p75     p95      p99    max\n",
       "VehPower      4   4.0   4.0    6.0     7.0    11.0     13.0     15\n",
       "VehAge        0   0.0   0.0    6.0    11.0    17.0     21.0    100\n",
       "DrivAge      18  20.0  25.0   44.0    55.0    72.0     80.0    100\n",
       "BonusMalus   50  50.0  50.0   50.0    64.0    95.0    106.0    230\n",
       "Density       1  10.0  20.0  393.0  1662.0  7313.0  27000.0  27000"
      ]
     },
     "metadata": {},
     "output_type": "display_data"
    }
   ],
   "source": [
    "q = train_c[NUM_COLS].quantile([0.01,0.05,0.5,0.75,0.95,0.99]).T\n",
    "q.columns = [\"p01\",\"p05\",\"p50\",\"p75\", \"p95\",\"p99\"]\n",
    "q[\"min\"] = train_c[NUM_COLS].min()\n",
    "q[\"max\"] = train_c[NUM_COLS].max()\n",
    "display(q[[\"min\",\"p01\",\"p05\",\"p50\",\"p75\",\"p95\",\"p99\",\"max\"]])\n"
   ]
  },
  {
   "cell_type": "code",
   "execution_count": 70,
   "id": "ad23f909",
   "metadata": {},
   "outputs": [
    {
     "name": "stdout",
     "output_type": "stream",
     "text": [
      "\n",
      "=== Area (top 12 efter rate) ===\n"
     ]
    },
    {
     "name": "stderr",
     "output_type": "stream",
     "text": [
      "C:\\Users\\Lenovo\\AppData\\Local\\Temp\\ipykernel_2884\\1951498038.py:4: FutureWarning: DataFrameGroupBy.apply operated on the grouping columns. This behavior is deprecated, and in a future version of pandas the grouping columns will be excluded from the operation. Either pass `include_groups=False` to exclude the groupings or explicitly select the grouping columns after groupby to silence this warning.\n",
      "  .apply(lambda g: pd.Series({\n"
     ]
    },
    {
     "data": {
      "application/vnd.microsoft.datawrangler.viewer.v0+json": {
       "columns": [
        {
         "name": "Area",
         "rawType": "object",
         "type": "string"
        },
        {
         "name": "Exposure_sum",
         "rawType": "float64",
         "type": "float"
        },
        {
         "name": "Claim_sum",
         "rawType": "float64",
         "type": "float"
        },
        {
         "name": "rate",
         "rawType": "float64",
         "type": "float"
        }
       ],
       "ref": "847ba03e-ed44-4501-92a8-7dad098b139e",
       "rows": [
        [
         "F",
         "6520.617892053081",
         "931.0",
         "0.14277788016602602"
        ],
        [
         "E",
         "50841.99931578352",
         "6183.0",
         "0.12161205466364368"
        ],
        [
         "D",
         "61411.19776176644",
         "6686.0",
         "0.10887265260542743"
        ],
        [
         "C",
         "83145.9205321781",
         "7886.0",
         "0.09484530268623412"
        ],
        [
         "B",
         "34369.51356087769",
         "3050.0",
         "0.08874143634874629"
        ],
        [
         "A",
         "49449.99154200456",
         "4035.0",
         "0.08159758726293269"
        ]
       ],
       "shape": {
        "columns": 3,
        "rows": 6
       }
      },
      "text/html": [
       "<div>\n",
       "<style scoped>\n",
       "    .dataframe tbody tr th:only-of-type {\n",
       "        vertical-align: middle;\n",
       "    }\n",
       "\n",
       "    .dataframe tbody tr th {\n",
       "        vertical-align: top;\n",
       "    }\n",
       "\n",
       "    .dataframe thead th {\n",
       "        text-align: right;\n",
       "    }\n",
       "</style>\n",
       "<table border=\"1\" class=\"dataframe\">\n",
       "  <thead>\n",
       "    <tr style=\"text-align: right;\">\n",
       "      <th></th>\n",
       "      <th>Exposure_sum</th>\n",
       "      <th>Claim_sum</th>\n",
       "      <th>rate</th>\n",
       "    </tr>\n",
       "    <tr>\n",
       "      <th>Area</th>\n",
       "      <th></th>\n",
       "      <th></th>\n",
       "      <th></th>\n",
       "    </tr>\n",
       "  </thead>\n",
       "  <tbody>\n",
       "    <tr>\n",
       "      <th>F</th>\n",
       "      <td>6520.617892</td>\n",
       "      <td>931.0</td>\n",
       "      <td>0.142778</td>\n",
       "    </tr>\n",
       "    <tr>\n",
       "      <th>E</th>\n",
       "      <td>50841.999316</td>\n",
       "      <td>6183.0</td>\n",
       "      <td>0.121612</td>\n",
       "    </tr>\n",
       "    <tr>\n",
       "      <th>D</th>\n",
       "      <td>61411.197762</td>\n",
       "      <td>6686.0</td>\n",
       "      <td>0.108873</td>\n",
       "    </tr>\n",
       "    <tr>\n",
       "      <th>C</th>\n",
       "      <td>83145.920532</td>\n",
       "      <td>7886.0</td>\n",
       "      <td>0.094845</td>\n",
       "    </tr>\n",
       "    <tr>\n",
       "      <th>B</th>\n",
       "      <td>34369.513561</td>\n",
       "      <td>3050.0</td>\n",
       "      <td>0.088741</td>\n",
       "    </tr>\n",
       "    <tr>\n",
       "      <th>A</th>\n",
       "      <td>49449.991542</td>\n",
       "      <td>4035.0</td>\n",
       "      <td>0.081598</td>\n",
       "    </tr>\n",
       "  </tbody>\n",
       "</table>\n",
       "</div>"
      ],
      "text/plain": [
       "      Exposure_sum  Claim_sum      rate\n",
       "Area                                   \n",
       "F      6520.617892      931.0  0.142778\n",
       "E     50841.999316     6183.0  0.121612\n",
       "D     61411.197762     6686.0  0.108873\n",
       "C     83145.920532     7886.0  0.094845\n",
       "B     34369.513561     3050.0  0.088741\n",
       "A     49449.991542     4035.0  0.081598"
      ]
     },
     "metadata": {},
     "output_type": "display_data"
    },
    {
     "name": "stdout",
     "output_type": "stream",
     "text": [
      "\n",
      "=== VehBrand (top 12 efter rate) ===\n"
     ]
    },
    {
     "name": "stderr",
     "output_type": "stream",
     "text": [
      "C:\\Users\\Lenovo\\AppData\\Local\\Temp\\ipykernel_2884\\1951498038.py:4: FutureWarning: DataFrameGroupBy.apply operated on the grouping columns. This behavior is deprecated, and in a future version of pandas the grouping columns will be excluded from the operation. Either pass `include_groups=False` to exclude the groupings or explicitly select the grouping columns after groupby to silence this warning.\n",
      "  .apply(lambda g: pd.Series({\n"
     ]
    },
    {
     "data": {
      "application/vnd.microsoft.datawrangler.viewer.v0+json": {
       "columns": [
        {
         "name": "VehBrand",
         "rawType": "object",
         "type": "string"
        },
        {
         "name": "Exposure_sum",
         "rawType": "float64",
         "type": "float"
        },
        {
         "name": "Claim_sum",
         "rawType": "float64",
         "type": "float"
        },
        {
         "name": "rate",
         "rawType": "float64",
         "type": "float"
        }
       ],
       "ref": "6a344178-b386-4082-b029-af22ab98300a",
       "rows": [
        [
         "B12",
         "51785.121067399516",
         "7050.0",
         "0.13613949054641128"
        ],
        [
         "B11",
         "5465.010589109673",
         "583.0",
         "0.10667865880475429"
        ],
        [
         "B5",
         "16010.108154794147",
         "1626.0",
         "0.10156083795805604"
        ],
        [
         "B3",
         "22725.482516640517",
         "2229.0",
         "0.0980837259832805"
        ],
        [
         "B13",
         "5349.203652966233",
         "520.0",
         "0.09721073149115389"
        ],
        [
         "B4",
         "11000.470832389508",
         "1056.0",
         "0.09599589109320124"
        ],
        [
         "B6",
         "12511.278867425146",
         "1165.0",
         "0.09311598057599367"
        ],
        [
         "B10",
         "7589.189007407303",
         "690.0",
         "0.09091880559655806"
        ],
        [
         "B1",
         "75931.7192019976",
         "6898.0",
         "0.09084477570762717"
        ],
        [
         "B2",
         "75566.90360651904",
         "6821.0",
         "0.09026438393608552"
        ],
        [
         "B14",
         "1804.7531080147116",
         "133.0",
         "0.07369429059817739"
        ]
       ],
       "shape": {
        "columns": 3,
        "rows": 11
       }
      },
      "text/html": [
       "<div>\n",
       "<style scoped>\n",
       "    .dataframe tbody tr th:only-of-type {\n",
       "        vertical-align: middle;\n",
       "    }\n",
       "\n",
       "    .dataframe tbody tr th {\n",
       "        vertical-align: top;\n",
       "    }\n",
       "\n",
       "    .dataframe thead th {\n",
       "        text-align: right;\n",
       "    }\n",
       "</style>\n",
       "<table border=\"1\" class=\"dataframe\">\n",
       "  <thead>\n",
       "    <tr style=\"text-align: right;\">\n",
       "      <th></th>\n",
       "      <th>Exposure_sum</th>\n",
       "      <th>Claim_sum</th>\n",
       "      <th>rate</th>\n",
       "    </tr>\n",
       "    <tr>\n",
       "      <th>VehBrand</th>\n",
       "      <th></th>\n",
       "      <th></th>\n",
       "      <th></th>\n",
       "    </tr>\n",
       "  </thead>\n",
       "  <tbody>\n",
       "    <tr>\n",
       "      <th>B12</th>\n",
       "      <td>51785.121067</td>\n",
       "      <td>7050.0</td>\n",
       "      <td>0.136139</td>\n",
       "    </tr>\n",
       "    <tr>\n",
       "      <th>B11</th>\n",
       "      <td>5465.010589</td>\n",
       "      <td>583.0</td>\n",
       "      <td>0.106679</td>\n",
       "    </tr>\n",
       "    <tr>\n",
       "      <th>B5</th>\n",
       "      <td>16010.108155</td>\n",
       "      <td>1626.0</td>\n",
       "      <td>0.101561</td>\n",
       "    </tr>\n",
       "    <tr>\n",
       "      <th>B3</th>\n",
       "      <td>22725.482517</td>\n",
       "      <td>2229.0</td>\n",
       "      <td>0.098084</td>\n",
       "    </tr>\n",
       "    <tr>\n",
       "      <th>B13</th>\n",
       "      <td>5349.203653</td>\n",
       "      <td>520.0</td>\n",
       "      <td>0.097211</td>\n",
       "    </tr>\n",
       "    <tr>\n",
       "      <th>B4</th>\n",
       "      <td>11000.470832</td>\n",
       "      <td>1056.0</td>\n",
       "      <td>0.095996</td>\n",
       "    </tr>\n",
       "    <tr>\n",
       "      <th>B6</th>\n",
       "      <td>12511.278867</td>\n",
       "      <td>1165.0</td>\n",
       "      <td>0.093116</td>\n",
       "    </tr>\n",
       "    <tr>\n",
       "      <th>B10</th>\n",
       "      <td>7589.189007</td>\n",
       "      <td>690.0</td>\n",
       "      <td>0.090919</td>\n",
       "    </tr>\n",
       "    <tr>\n",
       "      <th>B1</th>\n",
       "      <td>75931.719202</td>\n",
       "      <td>6898.0</td>\n",
       "      <td>0.090845</td>\n",
       "    </tr>\n",
       "    <tr>\n",
       "      <th>B2</th>\n",
       "      <td>75566.903607</td>\n",
       "      <td>6821.0</td>\n",
       "      <td>0.090264</td>\n",
       "    </tr>\n",
       "    <tr>\n",
       "      <th>B14</th>\n",
       "      <td>1804.753108</td>\n",
       "      <td>133.0</td>\n",
       "      <td>0.073694</td>\n",
       "    </tr>\n",
       "  </tbody>\n",
       "</table>\n",
       "</div>"
      ],
      "text/plain": [
       "          Exposure_sum  Claim_sum      rate\n",
       "VehBrand                                   \n",
       "B12       51785.121067     7050.0  0.136139\n",
       "B11        5465.010589      583.0  0.106679\n",
       "B5        16010.108155     1626.0  0.101561\n",
       "B3        22725.482517     2229.0  0.098084\n",
       "B13        5349.203653      520.0  0.097211\n",
       "B4        11000.470832     1056.0  0.095996\n",
       "B6        12511.278867     1165.0  0.093116\n",
       "B10        7589.189007      690.0  0.090919\n",
       "B1        75931.719202     6898.0  0.090845\n",
       "B2        75566.903607     6821.0  0.090264\n",
       "B14        1804.753108      133.0  0.073694"
      ]
     },
     "metadata": {},
     "output_type": "display_data"
    },
    {
     "name": "stdout",
     "output_type": "stream",
     "text": [
      "\n",
      "=== VehGas (top 12 efter rate) ===\n"
     ]
    },
    {
     "name": "stderr",
     "output_type": "stream",
     "text": [
      "C:\\Users\\Lenovo\\AppData\\Local\\Temp\\ipykernel_2884\\1951498038.py:4: FutureWarning: DataFrameGroupBy.apply operated on the grouping columns. This behavior is deprecated, and in a future version of pandas the grouping columns will be excluded from the operation. Either pass `include_groups=False` to exclude the groupings or explicitly select the grouping columns after groupby to silence this warning.\n",
      "  .apply(lambda g: pd.Series({\n"
     ]
    },
    {
     "data": {
      "application/vnd.microsoft.datawrangler.viewer.v0+json": {
       "columns": [
        {
         "name": "VehGas",
         "rawType": "object",
         "type": "string"
        },
        {
         "name": "Exposure_sum",
         "rawType": "float64",
         "type": "float"
        },
        {
         "name": "Claim_sum",
         "rawType": "float64",
         "type": "float"
        },
        {
         "name": "rate",
         "rawType": "float64",
         "type": "float"
        }
       ],
       "ref": "78373ef9-0428-4199-8ef1-5645a9754ae1",
       "rows": [
        [
         "Regular",
         "149745.96627883118",
         "15526.0",
         "0.10368225859980865"
        ],
        [
         "Diesel",
         "135993.27432583223",
         "13245.0",
         "0.09739452238105338"
        ]
       ],
       "shape": {
        "columns": 3,
        "rows": 2
       }
      },
      "text/html": [
       "<div>\n",
       "<style scoped>\n",
       "    .dataframe tbody tr th:only-of-type {\n",
       "        vertical-align: middle;\n",
       "    }\n",
       "\n",
       "    .dataframe tbody tr th {\n",
       "        vertical-align: top;\n",
       "    }\n",
       "\n",
       "    .dataframe thead th {\n",
       "        text-align: right;\n",
       "    }\n",
       "</style>\n",
       "<table border=\"1\" class=\"dataframe\">\n",
       "  <thead>\n",
       "    <tr style=\"text-align: right;\">\n",
       "      <th></th>\n",
       "      <th>Exposure_sum</th>\n",
       "      <th>Claim_sum</th>\n",
       "      <th>rate</th>\n",
       "    </tr>\n",
       "    <tr>\n",
       "      <th>VehGas</th>\n",
       "      <th></th>\n",
       "      <th></th>\n",
       "      <th></th>\n",
       "    </tr>\n",
       "  </thead>\n",
       "  <tbody>\n",
       "    <tr>\n",
       "      <th>Regular</th>\n",
       "      <td>149745.966279</td>\n",
       "      <td>15526.0</td>\n",
       "      <td>0.103682</td>\n",
       "    </tr>\n",
       "    <tr>\n",
       "      <th>Diesel</th>\n",
       "      <td>135993.274326</td>\n",
       "      <td>13245.0</td>\n",
       "      <td>0.097395</td>\n",
       "    </tr>\n",
       "  </tbody>\n",
       "</table>\n",
       "</div>"
      ],
      "text/plain": [
       "          Exposure_sum  Claim_sum      rate\n",
       "VehGas                                     \n",
       "Regular  149745.966279    15526.0  0.103682\n",
       "Diesel   135993.274326    13245.0  0.097395"
      ]
     },
     "metadata": {},
     "output_type": "display_data"
    },
    {
     "name": "stdout",
     "output_type": "stream",
     "text": [
      "\n",
      "=== Region (top 12 efter rate) ===\n"
     ]
    },
    {
     "name": "stderr",
     "output_type": "stream",
     "text": [
      "C:\\Users\\Lenovo\\AppData\\Local\\Temp\\ipykernel_2884\\1951498038.py:4: FutureWarning: DataFrameGroupBy.apply operated on the grouping columns. This behavior is deprecated, and in a future version of pandas the grouping columns will be excluded from the operation. Either pass `include_groups=False` to exclude the groupings or explicitly select the grouping columns after groupby to silence this warning.\n",
      "  .apply(lambda g: pd.Series({\n"
     ]
    },
    {
     "data": {
      "application/vnd.microsoft.datawrangler.viewer.v0+json": {
       "columns": [
        {
         "name": "Region",
         "rawType": "object",
         "type": "string"
        },
        {
         "name": "Exposure_sum",
         "rawType": "float64",
         "type": "float"
        },
        {
         "name": "Claim_sum",
         "rawType": "float64",
         "type": "float"
        },
        {
         "name": "rate",
         "rawType": "float64",
         "type": "float"
        }
       ],
       "ref": "af703190-46c0-4be6-a604-42c438b67bbb",
       "rows": [
        [
         "R21",
         "945.9131978437665",
         "134.0",
         "0.1416620471153764"
        ],
        [
         "R94",
         "1412.4133969600562",
         "188.0",
         "0.13310550608244956"
        ],
        [
         "R11",
         "24160.197651750233",
         "3190.0",
         "0.1320353436665245"
        ],
        [
         "R22",
         "2842.7507515510056",
         "348.0",
         "0.12241664163139561"
        ],
        [
         "R42",
         "953.9974818473341",
         "112.0",
         "0.11740072917500959"
        ],
        [
         "R82",
         "36137.037568659915",
         "4035.0",
         "0.11165829496492487"
        ],
        [
         "R74",
         "1914.8907515505384",
         "210.0",
         "0.1096668307734827"
        ],
        [
         "R93",
         "28437.288089657413",
         "3104.0",
         "0.1091524617331186"
        ],
        [
         "R91",
         "11631.907574664237",
         "1234.0",
         "0.10608750044470847"
        ],
        [
         "R43",
         "457.47651545722454",
         "48.0",
         "0.10492341875085422"
        ],
        [
         "R31",
         "9103.829584541661",
         "942.0",
         "0.10347293864106592"
        ],
        [
         "R26",
         "4009.1645497383333",
         "397.0",
         "0.0990231244127685"
        ]
       ],
       "shape": {
        "columns": 3,
        "rows": 12
       }
      },
      "text/html": [
       "<div>\n",
       "<style scoped>\n",
       "    .dataframe tbody tr th:only-of-type {\n",
       "        vertical-align: middle;\n",
       "    }\n",
       "\n",
       "    .dataframe tbody tr th {\n",
       "        vertical-align: top;\n",
       "    }\n",
       "\n",
       "    .dataframe thead th {\n",
       "        text-align: right;\n",
       "    }\n",
       "</style>\n",
       "<table border=\"1\" class=\"dataframe\">\n",
       "  <thead>\n",
       "    <tr style=\"text-align: right;\">\n",
       "      <th></th>\n",
       "      <th>Exposure_sum</th>\n",
       "      <th>Claim_sum</th>\n",
       "      <th>rate</th>\n",
       "    </tr>\n",
       "    <tr>\n",
       "      <th>Region</th>\n",
       "      <th></th>\n",
       "      <th></th>\n",
       "      <th></th>\n",
       "    </tr>\n",
       "  </thead>\n",
       "  <tbody>\n",
       "    <tr>\n",
       "      <th>R21</th>\n",
       "      <td>945.913198</td>\n",
       "      <td>134.0</td>\n",
       "      <td>0.141662</td>\n",
       "    </tr>\n",
       "    <tr>\n",
       "      <th>R94</th>\n",
       "      <td>1412.413397</td>\n",
       "      <td>188.0</td>\n",
       "      <td>0.133106</td>\n",
       "    </tr>\n",
       "    <tr>\n",
       "      <th>R11</th>\n",
       "      <td>24160.197652</td>\n",
       "      <td>3190.0</td>\n",
       "      <td>0.132035</td>\n",
       "    </tr>\n",
       "    <tr>\n",
       "      <th>R22</th>\n",
       "      <td>2842.750752</td>\n",
       "      <td>348.0</td>\n",
       "      <td>0.122417</td>\n",
       "    </tr>\n",
       "    <tr>\n",
       "      <th>R42</th>\n",
       "      <td>953.997482</td>\n",
       "      <td>112.0</td>\n",
       "      <td>0.117401</td>\n",
       "    </tr>\n",
       "    <tr>\n",
       "      <th>R82</th>\n",
       "      <td>36137.037569</td>\n",
       "      <td>4035.0</td>\n",
       "      <td>0.111658</td>\n",
       "    </tr>\n",
       "    <tr>\n",
       "      <th>R74</th>\n",
       "      <td>1914.890752</td>\n",
       "      <td>210.0</td>\n",
       "      <td>0.109667</td>\n",
       "    </tr>\n",
       "    <tr>\n",
       "      <th>R93</th>\n",
       "      <td>28437.288090</td>\n",
       "      <td>3104.0</td>\n",
       "      <td>0.109152</td>\n",
       "    </tr>\n",
       "    <tr>\n",
       "      <th>R91</th>\n",
       "      <td>11631.907575</td>\n",
       "      <td>1234.0</td>\n",
       "      <td>0.106088</td>\n",
       "    </tr>\n",
       "    <tr>\n",
       "      <th>R43</th>\n",
       "      <td>457.476515</td>\n",
       "      <td>48.0</td>\n",
       "      <td>0.104923</td>\n",
       "    </tr>\n",
       "    <tr>\n",
       "      <th>R31</th>\n",
       "      <td>9103.829585</td>\n",
       "      <td>942.0</td>\n",
       "      <td>0.103473</td>\n",
       "    </tr>\n",
       "    <tr>\n",
       "      <th>R26</th>\n",
       "      <td>4009.164550</td>\n",
       "      <td>397.0</td>\n",
       "      <td>0.099023</td>\n",
       "    </tr>\n",
       "  </tbody>\n",
       "</table>\n",
       "</div>"
      ],
      "text/plain": [
       "        Exposure_sum  Claim_sum      rate\n",
       "Region                                   \n",
       "R21       945.913198      134.0  0.141662\n",
       "R94      1412.413397      188.0  0.133106\n",
       "R11     24160.197652     3190.0  0.132035\n",
       "R22      2842.750752      348.0  0.122417\n",
       "R42       953.997482      112.0  0.117401\n",
       "R82     36137.037569     4035.0  0.111658\n",
       "R74      1914.890752      210.0  0.109667\n",
       "R93     28437.288090     3104.0  0.109152\n",
       "R91     11631.907575     1234.0  0.106088\n",
       "R43       457.476515       48.0  0.104923\n",
       "R31      9103.829585      942.0  0.103473\n",
       "R26      4009.164550      397.0  0.099023"
      ]
     },
     "metadata": {},
     "output_type": "display_data"
    }
   ],
   "source": [
    "def rate_by(col):\n",
    "    tab = (train_c\n",
    "           .groupby(col)\n",
    "           .apply(lambda g: pd.Series({\n",
    "               \"Exposure_sum\": g[\"Exposure\"].sum(),\n",
    "               \"Claim_sum\":    g[\"ClaimNb\"].sum(),\n",
    "               \"rate\":         g[\"ClaimNb\"].sum()/g[\"Exposure\"].sum()\n",
    "           }))\n",
    "           .sort_values(\"rate\", ascending=False))\n",
    "    return tab\n",
    "\n",
    "for col in CATEGORICAL_COLS:\n",
    "    print(f\"\\n=== {col} (top 12 efter rate) ===\")\n",
    "    display(rate_by(col).head(12))\n"
   ]
  },
  {
   "cell_type": "code",
   "execution_count": 71,
   "id": "1d4dca9c",
   "metadata": {},
   "outputs": [
    {
     "name": "stdout",
     "output_type": "stream",
     "text": [
      "\n",
      "=== VehPower (q-bins) ===\n"
     ]
    },
    {
     "name": "stderr",
     "output_type": "stream",
     "text": [
      "C:\\Users\\Lenovo\\AppData\\Local\\Temp\\ipykernel_2884\\340698375.py:4: FutureWarning: The default of observed=False is deprecated and will be changed to True in a future version of pandas. Pass observed=False to retain current behavior or observed=True to adopt the future default and silence this warning.\n",
      "  .groupby(cut)\n"
     ]
    },
    {
     "data": {
      "application/vnd.microsoft.datawrangler.viewer.v0+json": {
       "columns": [
        {
         "name": "VehPower bin",
         "rawType": "category",
         "type": "unknown"
        },
        {
         "name": "Exposure_sum",
         "rawType": "float64",
         "type": "float"
        },
        {
         "name": "rate",
         "rawType": "float64",
         "type": "float"
        }
       ],
       "ref": "d35b2be6-cedc-46a0-b621-0c4c3ce97f42",
       "rows": [
        [
         "(3.999, 5.0]",
         "102418.00374273295",
         "0.10135913238532128"
        ],
        [
         "(5.0, 6.0]",
         "65810.57227409133",
         "0.10153383824365567"
        ],
        [
         "(6.0, 7.0]",
         "62063.70615461834",
         "0.09833444339910498"
        ],
        [
         "(7.0, 8.0]",
         "17994.21324498952",
         "0.08252653115653709"
        ],
        [
         "(8.0, 10.0]",
         "24527.75492699939",
         "0.1150125646801343"
        ],
        [
         "(10.0, 15.0]",
         "12924.990261231867",
         "0.10050297708125265"
        ]
       ],
       "shape": {
        "columns": 2,
        "rows": 6
       }
      },
      "text/html": [
       "<div>\n",
       "<style scoped>\n",
       "    .dataframe tbody tr th:only-of-type {\n",
       "        vertical-align: middle;\n",
       "    }\n",
       "\n",
       "    .dataframe tbody tr th {\n",
       "        vertical-align: top;\n",
       "    }\n",
       "\n",
       "    .dataframe thead th {\n",
       "        text-align: right;\n",
       "    }\n",
       "</style>\n",
       "<table border=\"1\" class=\"dataframe\">\n",
       "  <thead>\n",
       "    <tr style=\"text-align: right;\">\n",
       "      <th></th>\n",
       "      <th>Exposure_sum</th>\n",
       "      <th>rate</th>\n",
       "    </tr>\n",
       "    <tr>\n",
       "      <th>VehPower bin</th>\n",
       "      <th></th>\n",
       "      <th></th>\n",
       "    </tr>\n",
       "  </thead>\n",
       "  <tbody>\n",
       "    <tr>\n",
       "      <th>(3.999, 5.0]</th>\n",
       "      <td>102418.003743</td>\n",
       "      <td>0.101359</td>\n",
       "    </tr>\n",
       "    <tr>\n",
       "      <th>(5.0, 6.0]</th>\n",
       "      <td>65810.572274</td>\n",
       "      <td>0.101534</td>\n",
       "    </tr>\n",
       "    <tr>\n",
       "      <th>(6.0, 7.0]</th>\n",
       "      <td>62063.706155</td>\n",
       "      <td>0.098334</td>\n",
       "    </tr>\n",
       "    <tr>\n",
       "      <th>(7.0, 8.0]</th>\n",
       "      <td>17994.213245</td>\n",
       "      <td>0.082527</td>\n",
       "    </tr>\n",
       "    <tr>\n",
       "      <th>(8.0, 10.0]</th>\n",
       "      <td>24527.754927</td>\n",
       "      <td>0.115013</td>\n",
       "    </tr>\n",
       "    <tr>\n",
       "      <th>(10.0, 15.0]</th>\n",
       "      <td>12924.990261</td>\n",
       "      <td>0.100503</td>\n",
       "    </tr>\n",
       "  </tbody>\n",
       "</table>\n",
       "</div>"
      ],
      "text/plain": [
       "               Exposure_sum      rate\n",
       "VehPower bin                         \n",
       "(3.999, 5.0]  102418.003743  0.101359\n",
       "(5.0, 6.0]     65810.572274  0.101534\n",
       "(6.0, 7.0]     62063.706155  0.098334\n",
       "(7.0, 8.0]     17994.213245  0.082527\n",
       "(8.0, 10.0]    24527.754927  0.115013\n",
       "(10.0, 15.0]   12924.990261  0.100503"
      ]
     },
     "metadata": {},
     "output_type": "display_data"
    },
    {
     "name": "stdout",
     "output_type": "stream",
     "text": [
      "\n",
      "=== VehAge (q-bins) ===\n"
     ]
    },
    {
     "name": "stderr",
     "output_type": "stream",
     "text": [
      "C:\\Users\\Lenovo\\AppData\\Local\\Temp\\ipykernel_2884\\340698375.py:4: FutureWarning: The default of observed=False is deprecated and will be changed to True in a future version of pandas. Pass observed=False to retain current behavior or observed=True to adopt the future default and silence this warning.\n",
      "  .groupby(cut)\n"
     ]
    },
    {
     "data": {
      "application/vnd.microsoft.datawrangler.viewer.v0+json": {
       "columns": [
        {
         "name": "VehAge bin",
         "rawType": "category",
         "type": "unknown"
        },
        {
         "name": "Exposure_sum",
         "rawType": "float64",
         "type": "float"
        },
        {
         "name": "rate",
         "rawType": "float64",
         "type": "float"
        }
       ],
       "ref": "527a504a-42d2-4cbe-a9b1-e000f0b65464",
       "rows": [
        [
         "(-0.001, 1.0]",
         "39352.56039818618",
         "0.16471609304229073"
        ],
        [
         "(1.0, 2.0]",
         "23695.986853792292",
         "0.09389775634703783"
        ],
        [
         "(2.0, 3.0]",
         "20822.517489318736",
         "0.08875007553471682"
        ],
        [
         "(3.0, 5.0]",
         "36639.14760908188",
         "0.09508954840249635"
        ],
        [
         "(5.0, 6.0]",
         "16509.997445160785",
         "0.10405816268030738"
        ],
        [
         "(6.0, 8.0]",
         "30660.67969232702",
         "0.09989993799017216"
        ],
        [
         "(8.0, 9.0]",
         "15011.743437377529",
         "0.09832302331552832"
        ],
        [
         "(9.0, 11.0]",
         "30832.313783955964",
         "0.09733294818638014"
        ],
        [
         "(11.0, 13.0]",
         "26556.586753490355",
         "0.0850636424390306"
        ],
        [
         "(13.0, 15.0]",
         "21523.26055242373",
         "0.07642894049409056"
        ],
        [
         "(15.0, 100.0]",
         "24134.446589548934",
         "0.06505224779754698"
        ]
       ],
       "shape": {
        "columns": 2,
        "rows": 11
       }
      },
      "text/html": [
       "<div>\n",
       "<style scoped>\n",
       "    .dataframe tbody tr th:only-of-type {\n",
       "        vertical-align: middle;\n",
       "    }\n",
       "\n",
       "    .dataframe tbody tr th {\n",
       "        vertical-align: top;\n",
       "    }\n",
       "\n",
       "    .dataframe thead th {\n",
       "        text-align: right;\n",
       "    }\n",
       "</style>\n",
       "<table border=\"1\" class=\"dataframe\">\n",
       "  <thead>\n",
       "    <tr style=\"text-align: right;\">\n",
       "      <th></th>\n",
       "      <th>Exposure_sum</th>\n",
       "      <th>rate</th>\n",
       "    </tr>\n",
       "    <tr>\n",
       "      <th>VehAge bin</th>\n",
       "      <th></th>\n",
       "      <th></th>\n",
       "    </tr>\n",
       "  </thead>\n",
       "  <tbody>\n",
       "    <tr>\n",
       "      <th>(-0.001, 1.0]</th>\n",
       "      <td>39352.560398</td>\n",
       "      <td>0.164716</td>\n",
       "    </tr>\n",
       "    <tr>\n",
       "      <th>(1.0, 2.0]</th>\n",
       "      <td>23695.986854</td>\n",
       "      <td>0.093898</td>\n",
       "    </tr>\n",
       "    <tr>\n",
       "      <th>(2.0, 3.0]</th>\n",
       "      <td>20822.517489</td>\n",
       "      <td>0.088750</td>\n",
       "    </tr>\n",
       "    <tr>\n",
       "      <th>(3.0, 5.0]</th>\n",
       "      <td>36639.147609</td>\n",
       "      <td>0.095090</td>\n",
       "    </tr>\n",
       "    <tr>\n",
       "      <th>(5.0, 6.0]</th>\n",
       "      <td>16509.997445</td>\n",
       "      <td>0.104058</td>\n",
       "    </tr>\n",
       "    <tr>\n",
       "      <th>(6.0, 8.0]</th>\n",
       "      <td>30660.679692</td>\n",
       "      <td>0.099900</td>\n",
       "    </tr>\n",
       "    <tr>\n",
       "      <th>(8.0, 9.0]</th>\n",
       "      <td>15011.743437</td>\n",
       "      <td>0.098323</td>\n",
       "    </tr>\n",
       "    <tr>\n",
       "      <th>(9.0, 11.0]</th>\n",
       "      <td>30832.313784</td>\n",
       "      <td>0.097333</td>\n",
       "    </tr>\n",
       "    <tr>\n",
       "      <th>(11.0, 13.0]</th>\n",
       "      <td>26556.586753</td>\n",
       "      <td>0.085064</td>\n",
       "    </tr>\n",
       "    <tr>\n",
       "      <th>(13.0, 15.0]</th>\n",
       "      <td>21523.260552</td>\n",
       "      <td>0.076429</td>\n",
       "    </tr>\n",
       "    <tr>\n",
       "      <th>(15.0, 100.0]</th>\n",
       "      <td>24134.446590</td>\n",
       "      <td>0.065052</td>\n",
       "    </tr>\n",
       "  </tbody>\n",
       "</table>\n",
       "</div>"
      ],
      "text/plain": [
       "               Exposure_sum      rate\n",
       "VehAge bin                           \n",
       "(-0.001, 1.0]  39352.560398  0.164716\n",
       "(1.0, 2.0]     23695.986854  0.093898\n",
       "(2.0, 3.0]     20822.517489  0.088750\n",
       "(3.0, 5.0]     36639.147609  0.095090\n",
       "(5.0, 6.0]     16509.997445  0.104058\n",
       "(6.0, 8.0]     30660.679692  0.099900\n",
       "(8.0, 9.0]     15011.743437  0.098323\n",
       "(9.0, 11.0]    30832.313784  0.097333\n",
       "(11.0, 13.0]   26556.586753  0.085064\n",
       "(13.0, 15.0]   21523.260552  0.076429\n",
       "(15.0, 100.0]  24134.446590  0.065052"
      ]
     },
     "metadata": {},
     "output_type": "display_data"
    },
    {
     "name": "stdout",
     "output_type": "stream",
     "text": [
      "\n",
      "=== DrivAge (q-bins) ===\n"
     ]
    },
    {
     "name": "stderr",
     "output_type": "stream",
     "text": [
      "C:\\Users\\Lenovo\\AppData\\Local\\Temp\\ipykernel_2884\\340698375.py:4: FutureWarning: The default of observed=False is deprecated and will be changed to True in a future version of pandas. Pass observed=False to retain current behavior or observed=True to adopt the future default and silence this warning.\n",
      "  .groupby(cut)\n"
     ]
    },
    {
     "data": {
      "application/vnd.microsoft.datawrangler.viewer.v0+json": {
       "columns": [
        {
         "name": "DrivAge bin",
         "rawType": "category",
         "type": "unknown"
        },
        {
         "name": "Exposure_sum",
         "rawType": "float64",
         "type": "float"
        },
        {
         "name": "rate",
         "rawType": "float64",
         "type": "float"
        }
       ],
       "ref": "b7a43a24-2dce-4f95-9f7e-924aa2984cbe",
       "rows": [
        [
         "(17.999, 27.0]",
         "20633.327518504833",
         "0.15344107716802335"
        ],
        [
         "(27.0, 31.0]",
         "21535.939250680654",
         "0.09611839891935879"
        ],
        [
         "(31.0, 34.0]",
         "19287.243642472597",
         "0.08959289528519032"
        ],
        [
         "(34.0, 38.0]",
         "27652.73728795495",
         "0.0887434749929411"
        ],
        [
         "(38.0, 41.0]",
         "20921.48856949112",
         "0.09640805401109469"
        ],
        [
         "(41.0, 44.0]",
         "20982.348559759957",
         "0.09817776089901953"
        ],
        [
         "(44.0, 48.0]",
         "27844.47571672997",
         "0.10669980035626657"
        ],
        [
         "(48.0, 51.0]",
         "22012.176893468626",
         "0.10807654379271722"
        ],
        [
         "(51.0, 55.0]",
         "28287.488070945994",
         "0.09863017857939821"
        ],
        [
         "(55.0, 59.0]",
         "20598.198106880292",
         "0.09029916065224732"
        ],
        [
         "(59.0, 67.0]",
         "26397.79897071771",
         "0.09061361527350724"
        ],
        [
         "(67.0, 100.0]",
         "29586.018017056704",
         "0.09747847778424723"
        ]
       ],
       "shape": {
        "columns": 2,
        "rows": 12
       }
      },
      "text/html": [
       "<div>\n",
       "<style scoped>\n",
       "    .dataframe tbody tr th:only-of-type {\n",
       "        vertical-align: middle;\n",
       "    }\n",
       "\n",
       "    .dataframe tbody tr th {\n",
       "        vertical-align: top;\n",
       "    }\n",
       "\n",
       "    .dataframe thead th {\n",
       "        text-align: right;\n",
       "    }\n",
       "</style>\n",
       "<table border=\"1\" class=\"dataframe\">\n",
       "  <thead>\n",
       "    <tr style=\"text-align: right;\">\n",
       "      <th></th>\n",
       "      <th>Exposure_sum</th>\n",
       "      <th>rate</th>\n",
       "    </tr>\n",
       "    <tr>\n",
       "      <th>DrivAge bin</th>\n",
       "      <th></th>\n",
       "      <th></th>\n",
       "    </tr>\n",
       "  </thead>\n",
       "  <tbody>\n",
       "    <tr>\n",
       "      <th>(17.999, 27.0]</th>\n",
       "      <td>20633.327519</td>\n",
       "      <td>0.153441</td>\n",
       "    </tr>\n",
       "    <tr>\n",
       "      <th>(27.0, 31.0]</th>\n",
       "      <td>21535.939251</td>\n",
       "      <td>0.096118</td>\n",
       "    </tr>\n",
       "    <tr>\n",
       "      <th>(31.0, 34.0]</th>\n",
       "      <td>19287.243642</td>\n",
       "      <td>0.089593</td>\n",
       "    </tr>\n",
       "    <tr>\n",
       "      <th>(34.0, 38.0]</th>\n",
       "      <td>27652.737288</td>\n",
       "      <td>0.088743</td>\n",
       "    </tr>\n",
       "    <tr>\n",
       "      <th>(38.0, 41.0]</th>\n",
       "      <td>20921.488569</td>\n",
       "      <td>0.096408</td>\n",
       "    </tr>\n",
       "    <tr>\n",
       "      <th>(41.0, 44.0]</th>\n",
       "      <td>20982.348560</td>\n",
       "      <td>0.098178</td>\n",
       "    </tr>\n",
       "    <tr>\n",
       "      <th>(44.0, 48.0]</th>\n",
       "      <td>27844.475717</td>\n",
       "      <td>0.106700</td>\n",
       "    </tr>\n",
       "    <tr>\n",
       "      <th>(48.0, 51.0]</th>\n",
       "      <td>22012.176893</td>\n",
       "      <td>0.108077</td>\n",
       "    </tr>\n",
       "    <tr>\n",
       "      <th>(51.0, 55.0]</th>\n",
       "      <td>28287.488071</td>\n",
       "      <td>0.098630</td>\n",
       "    </tr>\n",
       "    <tr>\n",
       "      <th>(55.0, 59.0]</th>\n",
       "      <td>20598.198107</td>\n",
       "      <td>0.090299</td>\n",
       "    </tr>\n",
       "    <tr>\n",
       "      <th>(59.0, 67.0]</th>\n",
       "      <td>26397.798971</td>\n",
       "      <td>0.090614</td>\n",
       "    </tr>\n",
       "    <tr>\n",
       "      <th>(67.0, 100.0]</th>\n",
       "      <td>29586.018017</td>\n",
       "      <td>0.097478</td>\n",
       "    </tr>\n",
       "  </tbody>\n",
       "</table>\n",
       "</div>"
      ],
      "text/plain": [
       "                Exposure_sum      rate\n",
       "DrivAge bin                           \n",
       "(17.999, 27.0]  20633.327519  0.153441\n",
       "(27.0, 31.0]    21535.939251  0.096118\n",
       "(31.0, 34.0]    19287.243642  0.089593\n",
       "(34.0, 38.0]    27652.737288  0.088743\n",
       "(38.0, 41.0]    20921.488569  0.096408\n",
       "(41.0, 44.0]    20982.348560  0.098178\n",
       "(44.0, 48.0]    27844.475717  0.106700\n",
       "(48.0, 51.0]    22012.176893  0.108077\n",
       "(51.0, 55.0]    28287.488071  0.098630\n",
       "(55.0, 59.0]    20598.198107  0.090299\n",
       "(59.0, 67.0]    26397.798971  0.090614\n",
       "(67.0, 100.0]   29586.018017  0.097478"
      ]
     },
     "metadata": {},
     "output_type": "display_data"
    },
    {
     "name": "stdout",
     "output_type": "stream",
     "text": [
      "\n",
      "=== BonusMalus (q-bins) ===\n"
     ]
    },
    {
     "name": "stderr",
     "output_type": "stream",
     "text": [
      "C:\\Users\\Lenovo\\AppData\\Local\\Temp\\ipykernel_2884\\340698375.py:4: FutureWarning: The default of observed=False is deprecated and will be changed to True in a future version of pandas. Pass observed=False to retain current behavior or observed=True to adopt the future default and silence this warning.\n",
      "  .groupby(cut)\n"
     ]
    },
    {
     "data": {
      "application/vnd.microsoft.datawrangler.viewer.v0+json": {
       "columns": [
        {
         "name": "BonusMalus bin",
         "rawType": "category",
         "type": "unknown"
        },
        {
         "name": "Exposure_sum",
         "rawType": "float64",
         "type": "float"
        },
        {
         "name": "rate",
         "rawType": "float64",
         "type": "float"
        }
       ],
       "ref": "315f6c05-18da-4b58-ac1c-6bf90414515a",
       "rows": [
        [
         "(49.999, 51.0]",
         "186214.58161678398",
         "0.07980578035818298"
        ],
        [
         "(51.0, 57.0]",
         "21372.716432355264",
         "0.09179928092948494"
        ],
        [
         "(57.0, 64.0]",
         "21672.589609989427",
         "0.14017706488567067"
        ],
        [
         "(64.0, 76.0]",
         "24120.679945340027",
         "0.11956545199121436"
        ],
        [
         "(76.0, 90.0]",
         "18803.346105235385",
         "0.1396028124626779"
        ],
        [
         "(90.0, 230.0]",
         "13555.326894959311",
         "0.2508976748664539"
        ]
       ],
       "shape": {
        "columns": 2,
        "rows": 6
       }
      },
      "text/html": [
       "<div>\n",
       "<style scoped>\n",
       "    .dataframe tbody tr th:only-of-type {\n",
       "        vertical-align: middle;\n",
       "    }\n",
       "\n",
       "    .dataframe tbody tr th {\n",
       "        vertical-align: top;\n",
       "    }\n",
       "\n",
       "    .dataframe thead th {\n",
       "        text-align: right;\n",
       "    }\n",
       "</style>\n",
       "<table border=\"1\" class=\"dataframe\">\n",
       "  <thead>\n",
       "    <tr style=\"text-align: right;\">\n",
       "      <th></th>\n",
       "      <th>Exposure_sum</th>\n",
       "      <th>rate</th>\n",
       "    </tr>\n",
       "    <tr>\n",
       "      <th>BonusMalus bin</th>\n",
       "      <th></th>\n",
       "      <th></th>\n",
       "    </tr>\n",
       "  </thead>\n",
       "  <tbody>\n",
       "    <tr>\n",
       "      <th>(49.999, 51.0]</th>\n",
       "      <td>186214.581617</td>\n",
       "      <td>0.079806</td>\n",
       "    </tr>\n",
       "    <tr>\n",
       "      <th>(51.0, 57.0]</th>\n",
       "      <td>21372.716432</td>\n",
       "      <td>0.091799</td>\n",
       "    </tr>\n",
       "    <tr>\n",
       "      <th>(57.0, 64.0]</th>\n",
       "      <td>21672.589610</td>\n",
       "      <td>0.140177</td>\n",
       "    </tr>\n",
       "    <tr>\n",
       "      <th>(64.0, 76.0]</th>\n",
       "      <td>24120.679945</td>\n",
       "      <td>0.119565</td>\n",
       "    </tr>\n",
       "    <tr>\n",
       "      <th>(76.0, 90.0]</th>\n",
       "      <td>18803.346105</td>\n",
       "      <td>0.139603</td>\n",
       "    </tr>\n",
       "    <tr>\n",
       "      <th>(90.0, 230.0]</th>\n",
       "      <td>13555.326895</td>\n",
       "      <td>0.250898</td>\n",
       "    </tr>\n",
       "  </tbody>\n",
       "</table>\n",
       "</div>"
      ],
      "text/plain": [
       "                 Exposure_sum      rate\n",
       "BonusMalus bin                         \n",
       "(49.999, 51.0]  186214.581617  0.079806\n",
       "(51.0, 57.0]     21372.716432  0.091799\n",
       "(57.0, 64.0]     21672.589610  0.140177\n",
       "(64.0, 76.0]     24120.679945  0.119565\n",
       "(76.0, 90.0]     18803.346105  0.139603\n",
       "(90.0, 230.0]    13555.326895  0.250898"
      ]
     },
     "metadata": {},
     "output_type": "display_data"
    },
    {
     "name": "stdout",
     "output_type": "stream",
     "text": [
      "\n",
      "=== Density (q-bins) ===\n"
     ]
    },
    {
     "name": "stderr",
     "output_type": "stream",
     "text": [
      "C:\\Users\\Lenovo\\AppData\\Local\\Temp\\ipykernel_2884\\340698375.py:4: FutureWarning: The default of observed=False is deprecated and will be changed to True in a future version of pandas. Pass observed=False to retain current behavior or observed=True to adopt the future default and silence this warning.\n",
      "  .groupby(cut)\n"
     ]
    },
    {
     "data": {
      "application/vnd.microsoft.datawrangler.viewer.v0+json": {
       "columns": [
        {
         "name": "Density bin",
         "rawType": "category",
         "type": "unknown"
        },
        {
         "name": "Exposure_sum",
         "rawType": "float64",
         "type": "float"
        },
        {
         "name": "rate",
         "rawType": "float64",
         "type": "float"
        }
       ],
       "ref": "1145a09e-4864-4733-938f-3fe1a8640ef5",
       "rows": [
        [
         "(0.999, 29.0]",
         "28192.497846378967",
         "0.07906358677921445"
        ],
        [
         "(29.0, 54.0]",
         "25779.893814645802",
         "0.08576451151803853"
        ],
        [
         "(54.0, 91.0]",
         "25387.230017951846",
         "0.08764248791327985"
        ],
        [
         "(91.0, 149.0]",
         "25607.537253523482",
         "0.09282423282125404"
        ],
        [
         "(149.0, 233.0]",
         "23930.578541793067",
         "0.09322800099060355"
        ],
        [
         "(233.0, 393.0]",
         "24210.85532074185",
         "0.09425524087308769"
        ],
        [
         "(393.0, 642.0]",
         "24198.587792483293",
         "0.10178279910884186"
        ],
        [
         "(642.0, 1064.0]",
         "22694.378838222103",
         "0.1144776871189099"
        ],
        [
         "(1064.0, 1662.0]",
         "23274.69445989767",
         "0.1015265744549924"
        ],
        [
         "(1662.0, 3317.0]",
         "23456.07819071853",
         "0.12329426839753425"
        ],
        [
         "(3317.0, 4685.0]",
         "18519.415022818095",
         "0.11922622811138929"
        ],
        [
         "(4685.0, 27000.0]",
         "20487.493505488696",
         "0.13139723506337173"
        ]
       ],
       "shape": {
        "columns": 2,
        "rows": 12
       }
      },
      "text/html": [
       "<div>\n",
       "<style scoped>\n",
       "    .dataframe tbody tr th:only-of-type {\n",
       "        vertical-align: middle;\n",
       "    }\n",
       "\n",
       "    .dataframe tbody tr th {\n",
       "        vertical-align: top;\n",
       "    }\n",
       "\n",
       "    .dataframe thead th {\n",
       "        text-align: right;\n",
       "    }\n",
       "</style>\n",
       "<table border=\"1\" class=\"dataframe\">\n",
       "  <thead>\n",
       "    <tr style=\"text-align: right;\">\n",
       "      <th></th>\n",
       "      <th>Exposure_sum</th>\n",
       "      <th>rate</th>\n",
       "    </tr>\n",
       "    <tr>\n",
       "      <th>Density bin</th>\n",
       "      <th></th>\n",
       "      <th></th>\n",
       "    </tr>\n",
       "  </thead>\n",
       "  <tbody>\n",
       "    <tr>\n",
       "      <th>(0.999, 29.0]</th>\n",
       "      <td>28192.497846</td>\n",
       "      <td>0.079064</td>\n",
       "    </tr>\n",
       "    <tr>\n",
       "      <th>(29.0, 54.0]</th>\n",
       "      <td>25779.893815</td>\n",
       "      <td>0.085765</td>\n",
       "    </tr>\n",
       "    <tr>\n",
       "      <th>(54.0, 91.0]</th>\n",
       "      <td>25387.230018</td>\n",
       "      <td>0.087642</td>\n",
       "    </tr>\n",
       "    <tr>\n",
       "      <th>(91.0, 149.0]</th>\n",
       "      <td>25607.537254</td>\n",
       "      <td>0.092824</td>\n",
       "    </tr>\n",
       "    <tr>\n",
       "      <th>(149.0, 233.0]</th>\n",
       "      <td>23930.578542</td>\n",
       "      <td>0.093228</td>\n",
       "    </tr>\n",
       "    <tr>\n",
       "      <th>(233.0, 393.0]</th>\n",
       "      <td>24210.855321</td>\n",
       "      <td>0.094255</td>\n",
       "    </tr>\n",
       "    <tr>\n",
       "      <th>(393.0, 642.0]</th>\n",
       "      <td>24198.587792</td>\n",
       "      <td>0.101783</td>\n",
       "    </tr>\n",
       "    <tr>\n",
       "      <th>(642.0, 1064.0]</th>\n",
       "      <td>22694.378838</td>\n",
       "      <td>0.114478</td>\n",
       "    </tr>\n",
       "    <tr>\n",
       "      <th>(1064.0, 1662.0]</th>\n",
       "      <td>23274.694460</td>\n",
       "      <td>0.101527</td>\n",
       "    </tr>\n",
       "    <tr>\n",
       "      <th>(1662.0, 3317.0]</th>\n",
       "      <td>23456.078191</td>\n",
       "      <td>0.123294</td>\n",
       "    </tr>\n",
       "    <tr>\n",
       "      <th>(3317.0, 4685.0]</th>\n",
       "      <td>18519.415023</td>\n",
       "      <td>0.119226</td>\n",
       "    </tr>\n",
       "    <tr>\n",
       "      <th>(4685.0, 27000.0]</th>\n",
       "      <td>20487.493505</td>\n",
       "      <td>0.131397</td>\n",
       "    </tr>\n",
       "  </tbody>\n",
       "</table>\n",
       "</div>"
      ],
      "text/plain": [
       "                   Exposure_sum      rate\n",
       "Density bin                              \n",
       "(0.999, 29.0]      28192.497846  0.079064\n",
       "(29.0, 54.0]       25779.893815  0.085765\n",
       "(54.0, 91.0]       25387.230018  0.087642\n",
       "(91.0, 149.0]      25607.537254  0.092824\n",
       "(149.0, 233.0]     23930.578542  0.093228\n",
       "(233.0, 393.0]     24210.855321  0.094255\n",
       "(393.0, 642.0]     24198.587792  0.101783\n",
       "(642.0, 1064.0]    22694.378838  0.114478\n",
       "(1064.0, 1662.0]   23274.694460  0.101527\n",
       "(1662.0, 3317.0]   23456.078191  0.123294\n",
       "(3317.0, 4685.0]   18519.415023  0.119226\n",
       "(4685.0, 27000.0]  20487.493505  0.131397"
      ]
     },
     "metadata": {},
     "output_type": "display_data"
    }
   ],
   "source": [
    "def binned_rate(col, bins=12):\n",
    "    cut = pd.qcut(train_c[col], q=bins, duplicates=\"drop\")\n",
    "    tab = (train_c\n",
    "           .groupby(cut)\n",
    "           .apply(lambda g: pd.Series({\n",
    "               \"Exposure_sum\": g[\"Exposure\"].sum(),\n",
    "               \"rate\": g[\"ClaimNb\"].sum()/g[\"Exposure\"].sum()\n",
    "           })))\n",
    "    tab.index.name = f\"{col} bin\"\n",
    "    return tab\n",
    "\n",
    "for col in NUM_COLS:\n",
    "    print(f\"\\n=== {col} (q-bins) ===\")\n",
    "    display(binned_rate(col, bins=12))\n"
   ]
  },
  {
   "cell_type": "code",
   "execution_count": 73,
   "id": "863573f9",
   "metadata": {},
   "outputs": [
    {
     "name": "stderr",
     "output_type": "stream",
     "text": [
      "C:\\Users\\Lenovo\\AppData\\Local\\Temp\\ipykernel_2884\\2310390029.py:4: FutureWarning: DataFrameGroupBy.apply operated on the grouping columns. This behavior is deprecated, and in a future version of pandas the grouping columns will be excluded from the operation. Either pass `include_groups=False` to exclude the groupings or explicitly select the grouping columns after groupby to silence this warning.\n",
      "  .apply(lambda g: g[\"ClaimNb\"].sum()/g[\"Exposure\"].sum())\n"
     ]
    },
    {
     "data": {
      "application/vnd.microsoft.datawrangler.viewer.v0+json": {
       "columns": [
        {
         "name": "Region",
         "rawType": "object",
         "type": "string"
        },
        {
         "name": "Diesel",
         "rawType": "float64",
         "type": "float"
        },
        {
         "name": "Regular",
         "rawType": "float64",
         "type": "float"
        }
       ],
       "ref": "bc379c02-14d0-4b5b-8e0c-aff0e6c2fc63",
       "rows": [
        [
         "R11",
         "0.11888219334745204",
         "0.13993800748236282"
        ],
        [
         "R21",
         "0.12832658871879618",
         "0.16110392583853125"
        ],
        [
         "R22",
         "0.11719299415101843",
         "0.12863075441252236"
        ],
        [
         "R23",
         "0.09464721671274312",
         "0.10186550010521396"
        ],
        [
         "R24",
         "0.08946766066116062",
         "0.08893163568614022"
        ],
        [
         "R25",
         "0.0931947895397404",
         "0.09190572815376317"
        ],
        [
         "R26",
         "0.08380232562201968",
         "0.11371180886679151"
        ],
        [
         "R31",
         "0.0989056096792136",
         "0.10912507040877985"
        ],
        [
         "R41",
         "0.07552976009869494",
         "0.07396022312899406"
        ],
        [
         "R42",
         "0.13573539133234533",
         "0.10796437862932576"
        ],
        [
         "R43",
         "0.1084183386728912",
         "0.10137150392083741"
        ],
        [
         "R52",
         "0.09639365165649566",
         "0.08840118431339408"
        ],
        [
         "R53",
         "0.0974276340415576",
         "0.09474587141654855"
        ],
        [
         "R54",
         "0.08359854259354779",
         "0.08740372172965354"
        ],
        [
         "R72",
         "0.09206925391300029",
         "0.10169742191040576"
        ],
        [
         "R73",
         "0.08076789339562687",
         "0.11427223072457642"
        ],
        [
         "R74",
         "0.10615112554638582",
         "0.11415658360022847"
        ],
        [
         "R82",
         "0.11562734809920262",
         "0.10847405416583508"
        ],
        [
         "R83",
         "0.07998781808955324",
         "0.07609544226705876"
        ],
        [
         "R91",
         "0.09349856521598911",
         "0.1176639584566975"
        ],
        [
         "R93",
         "0.10032665392448979",
         "0.11590828037166619"
        ],
        [
         "R94",
         "0.1132571808764736",
         "0.14935132914611834"
        ]
       ],
       "shape": {
        "columns": 2,
        "rows": 22
       }
      },
      "text/html": [
       "<div>\n",
       "<style scoped>\n",
       "    .dataframe tbody tr th:only-of-type {\n",
       "        vertical-align: middle;\n",
       "    }\n",
       "\n",
       "    .dataframe tbody tr th {\n",
       "        vertical-align: top;\n",
       "    }\n",
       "\n",
       "    .dataframe thead th {\n",
       "        text-align: right;\n",
       "    }\n",
       "</style>\n",
       "<table border=\"1\" class=\"dataframe\">\n",
       "  <thead>\n",
       "    <tr style=\"text-align: right;\">\n",
       "      <th>VehGas</th>\n",
       "      <th>Diesel</th>\n",
       "      <th>Regular</th>\n",
       "    </tr>\n",
       "    <tr>\n",
       "      <th>Region</th>\n",
       "      <th></th>\n",
       "      <th></th>\n",
       "    </tr>\n",
       "  </thead>\n",
       "  <tbody>\n",
       "    <tr>\n",
       "      <th>R11</th>\n",
       "      <td>0.118882</td>\n",
       "      <td>0.139938</td>\n",
       "    </tr>\n",
       "    <tr>\n",
       "      <th>R21</th>\n",
       "      <td>0.128327</td>\n",
       "      <td>0.161104</td>\n",
       "    </tr>\n",
       "    <tr>\n",
       "      <th>R22</th>\n",
       "      <td>0.117193</td>\n",
       "      <td>0.128631</td>\n",
       "    </tr>\n",
       "    <tr>\n",
       "      <th>R23</th>\n",
       "      <td>0.094647</td>\n",
       "      <td>0.101866</td>\n",
       "    </tr>\n",
       "    <tr>\n",
       "      <th>R24</th>\n",
       "      <td>0.089468</td>\n",
       "      <td>0.088932</td>\n",
       "    </tr>\n",
       "    <tr>\n",
       "      <th>R25</th>\n",
       "      <td>0.093195</td>\n",
       "      <td>0.091906</td>\n",
       "    </tr>\n",
       "    <tr>\n",
       "      <th>R26</th>\n",
       "      <td>0.083802</td>\n",
       "      <td>0.113712</td>\n",
       "    </tr>\n",
       "    <tr>\n",
       "      <th>R31</th>\n",
       "      <td>0.098906</td>\n",
       "      <td>0.109125</td>\n",
       "    </tr>\n",
       "    <tr>\n",
       "      <th>R41</th>\n",
       "      <td>0.075530</td>\n",
       "      <td>0.073960</td>\n",
       "    </tr>\n",
       "    <tr>\n",
       "      <th>R42</th>\n",
       "      <td>0.135735</td>\n",
       "      <td>0.107964</td>\n",
       "    </tr>\n",
       "    <tr>\n",
       "      <th>R43</th>\n",
       "      <td>0.108418</td>\n",
       "      <td>0.101372</td>\n",
       "    </tr>\n",
       "    <tr>\n",
       "      <th>R52</th>\n",
       "      <td>0.096394</td>\n",
       "      <td>0.088401</td>\n",
       "    </tr>\n",
       "    <tr>\n",
       "      <th>R53</th>\n",
       "      <td>0.097428</td>\n",
       "      <td>0.094746</td>\n",
       "    </tr>\n",
       "    <tr>\n",
       "      <th>R54</th>\n",
       "      <td>0.083599</td>\n",
       "      <td>0.087404</td>\n",
       "    </tr>\n",
       "    <tr>\n",
       "      <th>R72</th>\n",
       "      <td>0.092069</td>\n",
       "      <td>0.101697</td>\n",
       "    </tr>\n",
       "    <tr>\n",
       "      <th>R73</th>\n",
       "      <td>0.080768</td>\n",
       "      <td>0.114272</td>\n",
       "    </tr>\n",
       "    <tr>\n",
       "      <th>R74</th>\n",
       "      <td>0.106151</td>\n",
       "      <td>0.114157</td>\n",
       "    </tr>\n",
       "    <tr>\n",
       "      <th>R82</th>\n",
       "      <td>0.115627</td>\n",
       "      <td>0.108474</td>\n",
       "    </tr>\n",
       "    <tr>\n",
       "      <th>R83</th>\n",
       "      <td>0.079988</td>\n",
       "      <td>0.076095</td>\n",
       "    </tr>\n",
       "    <tr>\n",
       "      <th>R91</th>\n",
       "      <td>0.093499</td>\n",
       "      <td>0.117664</td>\n",
       "    </tr>\n",
       "    <tr>\n",
       "      <th>R93</th>\n",
       "      <td>0.100327</td>\n",
       "      <td>0.115908</td>\n",
       "    </tr>\n",
       "    <tr>\n",
       "      <th>R94</th>\n",
       "      <td>0.113257</td>\n",
       "      <td>0.149351</td>\n",
       "    </tr>\n",
       "  </tbody>\n",
       "</table>\n",
       "</div>"
      ],
      "text/plain": [
       "VehGas    Diesel   Regular\n",
       "Region                    \n",
       "R11     0.118882  0.139938\n",
       "R21     0.128327  0.161104\n",
       "R22     0.117193  0.128631\n",
       "R23     0.094647  0.101866\n",
       "R24     0.089468  0.088932\n",
       "R25     0.093195  0.091906\n",
       "R26     0.083802  0.113712\n",
       "R31     0.098906  0.109125\n",
       "R41     0.075530  0.073960\n",
       "R42     0.135735  0.107964\n",
       "R43     0.108418  0.101372\n",
       "R52     0.096394  0.088401\n",
       "R53     0.097428  0.094746\n",
       "R54     0.083599  0.087404\n",
       "R72     0.092069  0.101697\n",
       "R73     0.080768  0.114272\n",
       "R74     0.106151  0.114157\n",
       "R82     0.115627  0.108474\n",
       "R83     0.079988  0.076095\n",
       "R91     0.093499  0.117664\n",
       "R93     0.100327  0.115908\n",
       "R94     0.113257  0.149351"
      ]
     },
     "metadata": {},
     "output_type": "display_data"
    },
    {
     "name": "stderr",
     "output_type": "stream",
     "text": [
      "C:\\Users\\Lenovo\\AppData\\Local\\Temp\\ipykernel_2884\\2310390029.py:13: FutureWarning: The default of observed=False is deprecated and will be changed to True in a future version of pandas. Pass observed=False to retain current behavior or observed=True to adopt the future default and silence this warning.\n",
      "  .groupby([A,B])\n"
     ]
    },
    {
     "data": {
      "application/vnd.microsoft.datawrangler.viewer.v0+json": {
       "columns": [
        {
         "name": "DrivAge bin",
         "rawType": "category",
         "type": "unknown"
        },
        {
         "name": "(3.999, 5.0]",
         "rawType": "float64",
         "type": "float"
        },
        {
         "name": "(5.0, 6.0]",
         "rawType": "float64",
         "type": "float"
        },
        {
         "name": "(6.0, 7.0]",
         "rawType": "float64",
         "type": "float"
        },
        {
         "name": "(7.0, 8.0]",
         "rawType": "float64",
         "type": "float"
        },
        {
         "name": "(8.0, 15.0]",
         "rawType": "float64",
         "type": "float"
        }
       ],
       "ref": "b48dd48c-3bb6-4829-9bec-7c73eecc8f0a",
       "rows": [
        [
         "(17.999, 29.0]",
         "0.12809454193366787",
         "0.13572188131763516",
         "0.14359931802583178",
         "0.15662910222705104",
         "0.15657695721683304"
        ],
        [
         "(29.0, 34.0]",
         "0.08675321962391781",
         "0.08617539414837158",
         "0.08928895188312558",
         "0.07545011382374789",
         "0.11896755617977858"
        ],
        [
         "(34.0, 39.0]",
         "0.09752544661615681",
         "0.07810164527024006",
         "0.08619325301749216",
         "0.06747107072821133",
         "0.10962365353303058"
        ],
        [
         "(39.0, 44.0]",
         "0.098422320512735",
         "0.1018484308355353",
         "0.09867081564818249",
         "0.06657931846469091",
         "0.10345344672524648"
        ],
        [
         "(44.0, 50.0]",
         "0.11022567787765487",
         "0.1078491131379851",
         "0.10541380163962193",
         "0.0828950810716589",
         "0.11308440298520087"
        ],
        [
         "(50.0, 55.0]",
         "0.10054983874520612",
         "0.10352460469779902",
         "0.09761721316448448",
         "0.08878592919416634",
         "0.10733716118003253"
        ],
        [
         "(55.0, 63.0]",
         "0.09034779319116779",
         "0.0913294238207249",
         "0.08984000858800546",
         "0.07697362881626464",
         "0.10062266284844106"
        ],
        [
         "(63.0, 100.0]",
         "0.09445105164474384",
         "0.10704864909520717",
         "0.0887368022139049",
         "0.07732214382844846",
         "0.09172796983051967"
        ]
       ],
       "shape": {
        "columns": 5,
        "rows": 8
       }
      },
      "text/html": [
       "<div>\n",
       "<style scoped>\n",
       "    .dataframe tbody tr th:only-of-type {\n",
       "        vertical-align: middle;\n",
       "    }\n",
       "\n",
       "    .dataframe tbody tr th {\n",
       "        vertical-align: top;\n",
       "    }\n",
       "\n",
       "    .dataframe thead th {\n",
       "        text-align: right;\n",
       "    }\n",
       "</style>\n",
       "<table border=\"1\" class=\"dataframe\">\n",
       "  <thead>\n",
       "    <tr style=\"text-align: right;\">\n",
       "      <th>VehPower bin</th>\n",
       "      <th>(3.999, 5.0]</th>\n",
       "      <th>(5.0, 6.0]</th>\n",
       "      <th>(6.0, 7.0]</th>\n",
       "      <th>(7.0, 8.0]</th>\n",
       "      <th>(8.0, 15.0]</th>\n",
       "    </tr>\n",
       "    <tr>\n",
       "      <th>DrivAge bin</th>\n",
       "      <th></th>\n",
       "      <th></th>\n",
       "      <th></th>\n",
       "      <th></th>\n",
       "      <th></th>\n",
       "    </tr>\n",
       "  </thead>\n",
       "  <tbody>\n",
       "    <tr>\n",
       "      <th>(17.999, 29.0]</th>\n",
       "      <td>0.128095</td>\n",
       "      <td>0.135722</td>\n",
       "      <td>0.143599</td>\n",
       "      <td>0.156629</td>\n",
       "      <td>0.156577</td>\n",
       "    </tr>\n",
       "    <tr>\n",
       "      <th>(29.0, 34.0]</th>\n",
       "      <td>0.086753</td>\n",
       "      <td>0.086175</td>\n",
       "      <td>0.089289</td>\n",
       "      <td>0.075450</td>\n",
       "      <td>0.118968</td>\n",
       "    </tr>\n",
       "    <tr>\n",
       "      <th>(34.0, 39.0]</th>\n",
       "      <td>0.097525</td>\n",
       "      <td>0.078102</td>\n",
       "      <td>0.086193</td>\n",
       "      <td>0.067471</td>\n",
       "      <td>0.109624</td>\n",
       "    </tr>\n",
       "    <tr>\n",
       "      <th>(39.0, 44.0]</th>\n",
       "      <td>0.098422</td>\n",
       "      <td>0.101848</td>\n",
       "      <td>0.098671</td>\n",
       "      <td>0.066579</td>\n",
       "      <td>0.103453</td>\n",
       "    </tr>\n",
       "    <tr>\n",
       "      <th>(44.0, 50.0]</th>\n",
       "      <td>0.110226</td>\n",
       "      <td>0.107849</td>\n",
       "      <td>0.105414</td>\n",
       "      <td>0.082895</td>\n",
       "      <td>0.113084</td>\n",
       "    </tr>\n",
       "    <tr>\n",
       "      <th>(50.0, 55.0]</th>\n",
       "      <td>0.100550</td>\n",
       "      <td>0.103525</td>\n",
       "      <td>0.097617</td>\n",
       "      <td>0.088786</td>\n",
       "      <td>0.107337</td>\n",
       "    </tr>\n",
       "    <tr>\n",
       "      <th>(55.0, 63.0]</th>\n",
       "      <td>0.090348</td>\n",
       "      <td>0.091329</td>\n",
       "      <td>0.089840</td>\n",
       "      <td>0.076974</td>\n",
       "      <td>0.100623</td>\n",
       "    </tr>\n",
       "    <tr>\n",
       "      <th>(63.0, 100.0]</th>\n",
       "      <td>0.094451</td>\n",
       "      <td>0.107049</td>\n",
       "      <td>0.088737</td>\n",
       "      <td>0.077322</td>\n",
       "      <td>0.091728</td>\n",
       "    </tr>\n",
       "  </tbody>\n",
       "</table>\n",
       "</div>"
      ],
      "text/plain": [
       "VehPower bin    (3.999, 5.0]  (5.0, 6.0]  (6.0, 7.0]  (7.0, 8.0]  (8.0, 15.0]\n",
       "DrivAge bin                                                                  \n",
       "(17.999, 29.0]      0.128095    0.135722    0.143599    0.156629     0.156577\n",
       "(29.0, 34.0]        0.086753    0.086175    0.089289    0.075450     0.118968\n",
       "(34.0, 39.0]        0.097525    0.078102    0.086193    0.067471     0.109624\n",
       "(39.0, 44.0]        0.098422    0.101848    0.098671    0.066579     0.103453\n",
       "(44.0, 50.0]        0.110226    0.107849    0.105414    0.082895     0.113084\n",
       "(50.0, 55.0]        0.100550    0.103525    0.097617    0.088786     0.107337\n",
       "(55.0, 63.0]        0.090348    0.091329    0.089840    0.076974     0.100623\n",
       "(63.0, 100.0]       0.094451    0.107049    0.088737    0.077322     0.091728"
      ]
     },
     "metadata": {},
     "output_type": "display_data"
    }
   ],
   "source": [
    "# Eksempel 1: Region x VehGas\n",
    "tab_rg = (train_c\n",
    "          .groupby([\"Region\",\"VehGas\"])\n",
    "          .apply(lambda g: g[\"ClaimNb\"].sum()/g[\"Exposure\"].sum())\n",
    "          .unstack().sort_index())\n",
    "display(tab_rg)\n",
    "\n",
    "# Eksempel 2: Binnet DrivAge x VehPower\n",
    "import pandas as pd\n",
    "A = pd.qcut(train_c[\"DrivAge\"], q=8, duplicates=\"drop\")\n",
    "B = pd.qcut(train_c[\"VehPower\"], q=6, duplicates=\"drop\")\n",
    "tab_ab = (train_c\n",
    "          .groupby([A,B])\n",
    "          .apply(lambda g: g[\"ClaimNb\"].sum()/g[\"Exposure\"].sum())\n",
    "          .unstack())\n",
    "tab_ab.index.name, tab_ab.columns.name = \"DrivAge bin\", \"VehPower bin\"\n",
    "display(tab_ab)\n"
   ]
  },
  {
   "cell_type": "code",
   "execution_count": 74,
   "id": "a99d6db9",
   "metadata": {},
   "outputs": [
    {
     "data": {
      "text/html": [
       "<style type=\"text/css\">\n",
       "#T_dd129_row0_col0, #T_dd129_row1_col1, #T_dd129_row2_col2, #T_dd129_row3_col3, #T_dd129_row4_col4 {\n",
       "  background-color: #b40426;\n",
       "  color: #f1f1f1;\n",
       "}\n",
       "#T_dd129_row0_col1 {\n",
       "  background-color: #516ddb;\n",
       "  color: #f1f1f1;\n",
       "}\n",
       "#T_dd129_row0_col2 {\n",
       "  background-color: #aec9fc;\n",
       "  color: #000000;\n",
       "}\n",
       "#T_dd129_row0_col3 {\n",
       "  background-color: #94b6ff;\n",
       "  color: #000000;\n",
       "}\n",
       "#T_dd129_row0_col4 {\n",
       "  background-color: #6180e9;\n",
       "  color: #f1f1f1;\n",
       "}\n",
       "#T_dd129_row1_col0 {\n",
       "  background-color: #4e68d8;\n",
       "  color: #f1f1f1;\n",
       "}\n",
       "#T_dd129_row1_col2 {\n",
       "  background-color: #98b9ff;\n",
       "  color: #000000;\n",
       "}\n",
       "#T_dd129_row1_col3, #T_dd129_row4_col3 {\n",
       "  background-color: #b9d0f9;\n",
       "  color: #000000;\n",
       "}\n",
       "#T_dd129_row1_col4, #T_dd129_row2_col3, #T_dd129_row3_col0, #T_dd129_row3_col2, #T_dd129_row4_col1 {\n",
       "  background-color: #3b4cc0;\n",
       "  color: #f1f1f1;\n",
       "}\n",
       "#T_dd129_row2_col0 {\n",
       "  background-color: #5875e1;\n",
       "  color: #f1f1f1;\n",
       "}\n",
       "#T_dd129_row2_col1 {\n",
       "  background-color: #4358cb;\n",
       "  color: #f1f1f1;\n",
       "}\n",
       "#T_dd129_row2_col4 {\n",
       "  background-color: #536edd;\n",
       "  color: #f1f1f1;\n",
       "}\n",
       "#T_dd129_row3_col1 {\n",
       "  background-color: #6c8ff1;\n",
       "  color: #f1f1f1;\n",
       "}\n",
       "#T_dd129_row3_col4 {\n",
       "  background-color: #6b8df0;\n",
       "  color: #f1f1f1;\n",
       "}\n",
       "#T_dd129_row4_col0 {\n",
       "  background-color: #5d7ce6;\n",
       "  color: #f1f1f1;\n",
       "}\n",
       "#T_dd129_row4_col2 {\n",
       "  background-color: #a6c4fe;\n",
       "  color: #000000;\n",
       "}\n",
       "</style>\n",
       "<table id=\"T_dd129\">\n",
       "  <thead>\n",
       "    <tr>\n",
       "      <th class=\"blank level0\" >&nbsp;</th>\n",
       "      <th id=\"T_dd129_level0_col0\" class=\"col_heading level0 col0\" >VehPower</th>\n",
       "      <th id=\"T_dd129_level0_col1\" class=\"col_heading level0 col1\" >VehAge</th>\n",
       "      <th id=\"T_dd129_level0_col2\" class=\"col_heading level0 col2\" >DrivAge</th>\n",
       "      <th id=\"T_dd129_level0_col3\" class=\"col_heading level0 col3\" >BonusMalus</th>\n",
       "      <th id=\"T_dd129_level0_col4\" class=\"col_heading level0 col4\" >Density</th>\n",
       "    </tr>\n",
       "  </thead>\n",
       "  <tbody>\n",
       "    <tr>\n",
       "      <th id=\"T_dd129_level0_row0\" class=\"row_heading level0 row0\" >VehPower</th>\n",
       "      <td id=\"T_dd129_row0_col0\" class=\"data row0 col0\" >1.00</td>\n",
       "      <td id=\"T_dd129_row0_col1\" class=\"data row0 col1\" >-0.01</td>\n",
       "      <td id=\"T_dd129_row0_col2\" class=\"data row0 col2\" >0.03</td>\n",
       "      <td id=\"T_dd129_row0_col3\" class=\"data row0 col3\" >-0.08</td>\n",
       "      <td id=\"T_dd129_row0_col4\" class=\"data row0 col4\" >0.04</td>\n",
       "    </tr>\n",
       "    <tr>\n",
       "      <th id=\"T_dd129_level0_row1\" class=\"row_heading level0 row1\" >VehAge</th>\n",
       "      <td id=\"T_dd129_row1_col0\" class=\"data row1 col0\" >-0.01</td>\n",
       "      <td id=\"T_dd129_row1_col1\" class=\"data row1 col1\" >1.00</td>\n",
       "      <td id=\"T_dd129_row1_col2\" class=\"data row1 col2\" >-0.06</td>\n",
       "      <td id=\"T_dd129_row1_col3\" class=\"data row1 col3\" >0.08</td>\n",
       "      <td id=\"T_dd129_row1_col4\" class=\"data row1 col4\" >-0.09</td>\n",
       "    </tr>\n",
       "    <tr>\n",
       "      <th id=\"T_dd129_level0_row2\" class=\"row_heading level0 row2\" >DrivAge</th>\n",
       "      <td id=\"T_dd129_row2_col0\" class=\"data row2 col0\" >0.03</td>\n",
       "      <td id=\"T_dd129_row2_col1\" class=\"data row2 col1\" >-0.06</td>\n",
       "      <td id=\"T_dd129_row2_col2\" class=\"data row2 col2\" >1.00</td>\n",
       "      <td id=\"T_dd129_row2_col3\" class=\"data row2 col3\" >-0.48</td>\n",
       "      <td id=\"T_dd129_row2_col4\" class=\"data row2 col4\" >-0.00</td>\n",
       "    </tr>\n",
       "    <tr>\n",
       "      <th id=\"T_dd129_level0_row3\" class=\"row_heading level0 row3\" >BonusMalus</th>\n",
       "      <td id=\"T_dd129_row3_col0\" class=\"data row3 col0\" >-0.08</td>\n",
       "      <td id=\"T_dd129_row3_col1\" class=\"data row3 col1\" >0.08</td>\n",
       "      <td id=\"T_dd129_row3_col2\" class=\"data row3 col2\" >-0.48</td>\n",
       "      <td id=\"T_dd129_row3_col3\" class=\"data row3 col3\" >1.00</td>\n",
       "      <td id=\"T_dd129_row3_col4\" class=\"data row3 col4\" >0.08</td>\n",
       "    </tr>\n",
       "    <tr>\n",
       "      <th id=\"T_dd129_level0_row4\" class=\"row_heading level0 row4\" >Density</th>\n",
       "      <td id=\"T_dd129_row4_col0\" class=\"data row4 col0\" >0.04</td>\n",
       "      <td id=\"T_dd129_row4_col1\" class=\"data row4 col1\" >-0.09</td>\n",
       "      <td id=\"T_dd129_row4_col2\" class=\"data row4 col2\" >-0.00</td>\n",
       "      <td id=\"T_dd129_row4_col3\" class=\"data row4 col3\" >0.08</td>\n",
       "      <td id=\"T_dd129_row4_col4\" class=\"data row4 col4\" >1.00</td>\n",
       "    </tr>\n",
       "  </tbody>\n",
       "</table>\n"
      ],
      "text/plain": [
       "<pandas.io.formats.style.Styler at 0x28bd6f5fed0>"
      ]
     },
     "metadata": {},
     "output_type": "display_data"
    },
    {
     "data": {
      "application/vnd.microsoft.datawrangler.viewer.v0+json": {
       "columns": [
        {
         "name": "index",
         "rawType": "object",
         "type": "string"
        },
        {
         "name": "VIF",
         "rawType": "float64",
         "type": "float"
        }
       ],
       "ref": "7c0941f6-43db-4054-954e-77095ee5485d",
       "rows": [
        [
         "VehPower",
         "1.0083419071311088"
        ],
        [
         "VehAge",
         "1.0165406991542463"
        ],
        [
         "DrivAge",
         "1.3015458440463739"
        ],
        [
         "BonusMalus",
         "1.3220311150183857"
        ],
        [
         "Density",
         "1.0197873466612504"
        ]
       ],
       "shape": {
        "columns": 1,
        "rows": 5
       }
      },
      "text/html": [
       "<div>\n",
       "<style scoped>\n",
       "    .dataframe tbody tr th:only-of-type {\n",
       "        vertical-align: middle;\n",
       "    }\n",
       "\n",
       "    .dataframe tbody tr th {\n",
       "        vertical-align: top;\n",
       "    }\n",
       "\n",
       "    .dataframe thead th {\n",
       "        text-align: right;\n",
       "    }\n",
       "</style>\n",
       "<table border=\"1\" class=\"dataframe\">\n",
       "  <thead>\n",
       "    <tr style=\"text-align: right;\">\n",
       "      <th></th>\n",
       "      <th>VIF</th>\n",
       "    </tr>\n",
       "  </thead>\n",
       "  <tbody>\n",
       "    <tr>\n",
       "      <th>VehPower</th>\n",
       "      <td>1.008342</td>\n",
       "    </tr>\n",
       "    <tr>\n",
       "      <th>VehAge</th>\n",
       "      <td>1.016541</td>\n",
       "    </tr>\n",
       "    <tr>\n",
       "      <th>DrivAge</th>\n",
       "      <td>1.301546</td>\n",
       "    </tr>\n",
       "    <tr>\n",
       "      <th>BonusMalus</th>\n",
       "      <td>1.322031</td>\n",
       "    </tr>\n",
       "    <tr>\n",
       "      <th>Density</th>\n",
       "      <td>1.019787</td>\n",
       "    </tr>\n",
       "  </tbody>\n",
       "</table>\n",
       "</div>"
      ],
      "text/plain": [
       "                 VIF\n",
       "VehPower    1.008342\n",
       "VehAge      1.016541\n",
       "DrivAge     1.301546\n",
       "BonusMalus  1.322031\n",
       "Density     1.019787"
      ]
     },
     "metadata": {},
     "output_type": "display_data"
    }
   ],
   "source": [
    "from statsmodels.stats.outliers_influence import variance_inflation_factor\n",
    "import numpy as np\n",
    "\n",
    "num = train_c[NUM_COLS].copy()\n",
    "corr = num.corr()\n",
    "display(corr.style.background_gradient(cmap=\"coolwarm\").format(\"{:.2f}\"))\n",
    "\n",
    "Xnum = num.assign(const=1.0).values\n",
    "vif = pd.Series(\n",
    "    [variance_inflation_factor(Xnum, i) for i in range(Xnum.shape[1]-1)],\n",
    "    index=NUM_COLS, name=\"VIF\"\n",
    ")\n",
    "display(vif.to_frame())\n"
   ]
  },
  {
   "cell_type": "markdown",
   "id": "9411a216",
   "metadata": {},
   "source": [
    "A variance inflation factor (VIF) tells you whether one of your variables is too similar to any others in your model. Researchers and statisticians use VIF to identify potential problems in models, to interpret complex datasets, to validate their findings, and to avoid misleading conclusions. A high VIF can make your model confusing and difficult to interpret, while a low VIF is more stable.\n",
    "\n",
    "VIF equal to 1 = variables are not correlated\n",
    "VIF between 1 and 5 = variables are moderately correlated \n",
    "VIF greater than 5 = variables are highly correlated"
   ]
  },
  {
   "cell_type": "code",
   "execution_count": 77,
   "id": "c7af77d7",
   "metadata": {},
   "outputs": [
    {
     "name": "stdout",
     "output_type": "stream",
     "text": [
      "Overdispersion (var/mean) ~ 347.83 (>>1 tyder på NegBin)\n",
      "Pearson-dispersion ~ 2.86\n"
     ]
    }
   ],
   "source": [
    "# Simpel overdispersion: var/mean på counts pr. \"celle\" (aggreger let)\n",
    "cell = train_c.groupby([\"Area\",\"Region\",\"VehGas\"]).agg(\n",
    "    y=(\"ClaimNb\",\"sum\"), e=(\"Exposure\",\"sum\")\n",
    ").reset_index()\n",
    "cell[\"mu\"] = cell[\"e\"] * (train_c[\"ClaimNb\"].sum() / train_c[\"Exposure\"].sum())\n",
    "overdisp_ratio = cell[\"y\"].var() / cell[\"y\"].mean()\n",
    "print(f\"Overdispersion (var/mean) ~ {overdisp_ratio:.2f} (>>1 tyder på NegBin)\")\n",
    "\n",
    "# Alternativ: Pearson-dispersion under simpel Poisson GLM (kun hvis statsmodels er ok at bruge)\n",
    "import statsmodels.api as sm, statsmodels.formula.api as smf\n",
    "m = smf.glm(\"ClaimNb ~ 1\", data=train_c, family=sm.families.Poisson(),\n",
    "            offset=np.log(train_c[\"Exposure\"])).fit()\n",
    "pearson_chi2 = ((train_c[\"ClaimNb\"] - m.mu)**2 / np.maximum(m.mu, 1e-6)).sum()\n",
    "dispersion = pearson_chi2 / (len(train_c) - m.df_model - 1)\n",
    "print(f\"Pearson-dispersion ~ {dispersion:.2f}\")\n"
   ]
  },
  {
   "cell_type": "code",
   "execution_count": 79,
   "id": "fe70df1a",
   "metadata": {},
   "outputs": [
    {
     "name": "stdout",
     "output_type": "stream",
     "text": [
      "Forklaret varians PC1/PC2 (%): [30.25 21.99]\n"
     ]
    },
    {
     "data": {
      "image/png": "[encoded data removed]",
      "text/plain": [
       "<Figure size 640x480 with 1 Axes>"
      ]
     },
     "metadata": {},
     "output_type": "display_data"
    },
    {
     "data": {
      "application/vnd.microsoft.datawrangler.viewer.v0+json": {
       "columns": [
        {
         "name": "index",
         "rawType": "int64",
         "type": "integer"
        },
        {
         "name": "k",
         "rawType": "int64",
         "type": "integer"
        },
        {
         "name": "silhouette",
         "rawType": "float64",
         "type": "float"
        },
        {
         "name": "calinski",
         "rawType": "float64",
         "type": "float"
        },
        {
         "name": "dbi",
         "rawType": "float64",
         "type": "float"
        }
       ],
       "ref": "82cee288-1df5-46bb-9483-508bad7dc5a3",
       "rows": [
        [
         "0",
         "3",
         "0.45265743136405945",
         "345437.53125",
         "0.8483150109140295"
        ],
        [
         "1",
         "4",
         "0.35650697350502014",
         "386246.09375",
         "0.8690404348671631"
        ],
        [
         "4",
         "7",
         "0.3200388252735138",
         "372495.65625",
         "0.8915990305316017"
        ],
        [
         "2",
         "5",
         "0.31906166672706604",
         "374924.6875",
         "0.8808658909740995"
        ],
        [
         "5",
         "8",
         "0.3175695538520813",
         "363672.125",
         "0.8757271408249006"
        ],
        [
         "3",
         "6",
         "0.2984311878681183",
         "363531.09375",
         "0.9510345880881816"
        ]
       ],
       "shape": {
        "columns": 4,
        "rows": 6
       }
      },
      "text/html": [
       "<div>\n",
       "<style scoped>\n",
       "    .dataframe tbody tr th:only-of-type {\n",
       "        vertical-align: middle;\n",
       "    }\n",
       "\n",
       "    .dataframe tbody tr th {\n",
       "        vertical-align: top;\n",
       "    }\n",
       "\n",
       "    .dataframe thead th {\n",
       "        text-align: right;\n",
       "    }\n",
       "</style>\n",
       "<table border=\"1\" class=\"dataframe\">\n",
       "  <thead>\n",
       "    <tr style=\"text-align: right;\">\n",
       "      <th></th>\n",
       "      <th>k</th>\n",
       "      <th>silhouette</th>\n",
       "      <th>calinski</th>\n",
       "      <th>dbi</th>\n",
       "    </tr>\n",
       "  </thead>\n",
       "  <tbody>\n",
       "    <tr>\n",
       "      <th>0</th>\n",
       "      <td>3</td>\n",
       "      <td>0.452657</td>\n",
       "      <td>345437.53125</td>\n",
       "      <td>0.848315</td>\n",
       "    </tr>\n",
       "    <tr>\n",
       "      <th>1</th>\n",
       "      <td>4</td>\n",
       "      <td>0.356507</td>\n",
       "      <td>386246.09375</td>\n",
       "      <td>0.869040</td>\n",
       "    </tr>\n",
       "    <tr>\n",
       "      <th>4</th>\n",
       "      <td>7</td>\n",
       "      <td>0.320039</td>\n",
       "      <td>372495.65625</td>\n",
       "      <td>0.891599</td>\n",
       "    </tr>\n",
       "    <tr>\n",
       "      <th>2</th>\n",
       "      <td>5</td>\n",
       "      <td>0.319062</td>\n",
       "      <td>374924.68750</td>\n",
       "      <td>0.880866</td>\n",
       "    </tr>\n",
       "    <tr>\n",
       "      <th>5</th>\n",
       "      <td>8</td>\n",
       "      <td>0.317570</td>\n",
       "      <td>363672.12500</td>\n",
       "      <td>0.875727</td>\n",
       "    </tr>\n",
       "    <tr>\n",
       "      <th>3</th>\n",
       "      <td>6</td>\n",
       "      <td>0.298431</td>\n",
       "      <td>363531.09375</td>\n",
       "      <td>0.951035</td>\n",
       "    </tr>\n",
       "  </tbody>\n",
       "</table>\n",
       "</div>"
      ],
      "text/plain": [
       "   k  silhouette      calinski       dbi\n",
       "0  3    0.452657  345437.53125  0.848315\n",
       "1  4    0.356507  386246.09375  0.869040\n",
       "4  7    0.320039  372495.65625  0.891599\n",
       "2  5    0.319062  374924.68750  0.880866\n",
       "5  8    0.317570  363672.12500  0.875727\n",
       "3  6    0.298431  363531.09375  0.951035"
      ]
     },
     "metadata": {},
     "output_type": "display_data"
    },
    {
     "name": "stdout",
     "output_type": "stream",
     "text": [
      "Valgt k: 3  (sil=0.453)\n"
     ]
    },
    {
     "name": "stderr",
     "output_type": "stream",
     "text": [
      "C:\\Users\\Lenovo\\AppData\\Local\\Temp\\ipykernel_2884\\679720730.py:46: FutureWarning: DataFrameGroupBy.apply operated on the grouping columns. This behavior is deprecated, and in a future version of pandas the grouping columns will be excluded from the operation. Either pass `include_groups=False` to exclude the groupings or explicitly select the grouping columns after groupby to silence this warning.\n",
      "  .apply(lambda g: pd.Series({\n"
     ]
    },
    {
     "data": {
      "application/vnd.microsoft.datawrangler.viewer.v0+json": {
       "columns": [
        {
         "name": "index",
         "rawType": "int64",
         "type": "integer"
        },
        {
         "name": "cluster",
         "rawType": "int32",
         "type": "integer"
        },
        {
         "name": "n",
         "rawType": "float64",
         "type": "float"
        },
        {
         "name": "Exposure_sum",
         "rawType": "float64",
         "type": "float"
        },
        {
         "name": "obs_freq",
         "rawType": "float64",
         "type": "float"
        }
       ],
       "ref": "eb10386c-46ab-4acc-a47b-1c091329d99a",
       "rows": [
        [
         "2",
         "2",
         "32383.0",
         "13789.26209894684",
         "0.14424267127041632"
        ],
        [
         "1",
         "1",
         "144494.0",
         "62635.7308473231",
         "0.1344599940971222"
        ],
        [
         "0",
         "0",
         "364539.0",
         "209314.24765839346",
         "0.08771500366264612"
        ]
       ],
       "shape": {
        "columns": 4,
        "rows": 3
       }
      },
      "text/html": [
       "<div>\n",
       "<style scoped>\n",
       "    .dataframe tbody tr th:only-of-type {\n",
       "        vertical-align: middle;\n",
       "    }\n",
       "\n",
       "    .dataframe tbody tr th {\n",
       "        vertical-align: top;\n",
       "    }\n",
       "\n",
       "    .dataframe thead th {\n",
       "        text-align: right;\n",
       "    }\n",
       "</style>\n",
       "<table border=\"1\" class=\"dataframe\">\n",
       "  <thead>\n",
       "    <tr style=\"text-align: right;\">\n",
       "      <th></th>\n",
       "      <th>cluster</th>\n",
       "      <th>n</th>\n",
       "      <th>Exposure_sum</th>\n",
       "      <th>obs_freq</th>\n",
       "    </tr>\n",
       "  </thead>\n",
       "  <tbody>\n",
       "    <tr>\n",
       "      <th>2</th>\n",
       "      <td>2</td>\n",
       "      <td>32383.0</td>\n",
       "      <td>13789.262099</td>\n",
       "      <td>0.144243</td>\n",
       "    </tr>\n",
       "    <tr>\n",
       "      <th>1</th>\n",
       "      <td>1</td>\n",
       "      <td>144494.0</td>\n",
       "      <td>62635.730847</td>\n",
       "      <td>0.134460</td>\n",
       "    </tr>\n",
       "    <tr>\n",
       "      <th>0</th>\n",
       "      <td>0</td>\n",
       "      <td>364539.0</td>\n",
       "      <td>209314.247658</td>\n",
       "      <td>0.087715</td>\n",
       "    </tr>\n",
       "  </tbody>\n",
       "</table>\n",
       "</div>"
      ],
      "text/plain": [
       "   cluster         n   Exposure_sum  obs_freq\n",
       "2        2   32383.0   13789.262099  0.144243\n",
       "1        1  144494.0   62635.730847  0.134460\n",
       "0        0  364539.0  209314.247658  0.087715"
      ]
     },
     "metadata": {},
     "output_type": "display_data"
    }
   ],
   "source": [
    "from sklearn.preprocessing import StandardScaler\n",
    "from sklearn.decomposition import PCA\n",
    "from sklearn.cluster import MiniBatchKMeans\n",
    "from sklearn.metrics import silhouette_score, calinski_harabasz_score, davies_bouldin_score\n",
    "import numpy as np, matplotlib.pyplot as plt\n",
    "\n",
    "# PCA på numeriske (hurtigt og stabilt)\n",
    "num_df = train_c[NUM_COLS].fillna(train_c[NUM_COLS].median())\n",
    "Xn = StandardScaler().fit_transform(num_df)\n",
    "pca = PCA(n_components=2, svd_solver=\"randomized\", random_state=0)\n",
    "X2 = pca.fit_transform(Xn).astype(\"float32\")\n",
    "print(\"Forklaret varians PC1/PC2 (%):\", (pca.explained_variance_ratio_*100).round(2))\n",
    "\n",
    "# Visualisering (samplet)\n",
    "rng = np.random.RandomState(0)\n",
    "idx = rng.choice(len(X2), size=min(50000, len(X2)), replace=False)\n",
    "had_claim = (train_c[\"ClaimNb\"]>0).astype(int).values\n",
    "plt.figure(); plt.scatter(X2[idx,0], X2[idx,1], c=had_claim[idx], s=5)\n",
    "plt.title(\"PCA (numeriske) — farve=har skade (0/1)\")\n",
    "plt.xlabel(\"PC1\"); plt.ylabel(\"PC2\"); plt.tight_layout(); plt.show()\n",
    "\n",
    "# KMeans i PCA-plan (hurtig udvælgelse af k)\n",
    "KS = [3,4,5,6,7,8]; SIL_SAMPLE = 5000\n",
    "idx_sil = rng.choice(len(X2), size=min(SIL_SAMPLE, len(X2)), replace=False)\n",
    "\n",
    "res = []\n",
    "for k in KS:\n",
    "    km = MiniBatchKMeans(n_clusters=k, batch_size=8192, n_init=10, random_state=0)\n",
    "    labels = km.fit_predict(X2)\n",
    "    sil = silhouette_score(X2[idx_sil], labels[idx_sil])\n",
    "    ch  = calinski_harabasz_score(X2, labels)\n",
    "    dbi = davies_bouldin_score(X2, labels)\n",
    "    res.append({\"k\":k,\"silhouette\":sil,\"calinski\":ch,\"dbi\":dbi,\"labels\":labels})\n",
    "\n",
    "res_df = pd.DataFrame([{k:v for k,v in r.items() if k!=\"labels\"} for r in res])\n",
    "display(res_df.sort_values([\"silhouette\",\"calinski\",\"dbi\"], ascending=[False,False,True]))\n",
    "\n",
    "best = max(res, key=lambda r: (r[\"silhouette\"], r[\"calinski\"], -r[\"dbi\"]))\n",
    "best_k, best_labels = best[\"k\"], best[\"labels\"]\n",
    "print(f\"Valgt k: {best_k}  (sil={best['silhouette']:.3f})\")\n",
    "\n",
    "# Clusterprofil (eksponering-vægtet frekvens)\n",
    "prof = (pd.DataFrame({\"cluster\": best_labels, \"Exposure\": train_c[\"Exposure\"].values,\n",
    "                      \"ClaimNb\": train_c[\"ClaimNb\"].values})\n",
    "        .groupby(\"cluster\")\n",
    "        .apply(lambda g: pd.Series({\n",
    "            \"n\": len(g),\n",
    "            \"Exposure_sum\": g[\"Exposure\"].sum(),\n",
    "            \"obs_freq\": g[\"ClaimNb\"].sum()/g[\"Exposure\"].sum()\n",
    "        }))\n",
    "        .reset_index()\n",
    "        .sort_values(\"obs_freq\", ascending=False))\n",
    "display(prof.head(10))\n"
   ]
  },
  {
   "cell_type": "code",
   "execution_count": 82,
   "id": "5691987f",
   "metadata": {},
   "outputs": [
    {
     "name": "stdout",
     "output_type": "stream",
     "text": [
      "PSI VehPower: 0.000 (>=0.2 tyder på drift)\n",
      "PSI VehAge: 0.000 (>=0.2 tyder på drift)\n",
      "PSI DrivAge: 0.000 (>=0.2 tyder på drift)\n",
      "PSI BonusMalus: 0.000 (>=0.2 tyder på drift)\n",
      "PSI Density: 0.000 (>=0.2 tyder på drift)\n"
     ]
    }
   ],
   "source": [
    "import numpy as np, pandas as pd\n",
    "\n",
    "def psi(series_train, series_test, bins=10):\n",
    "    # kvantilbuckets på train, mål fordelingen i test\n",
    "    q = np.linspace(0,1,bins+1)\n",
    "    cuts = series_train.quantile(q).unique()  # undgå dupl.\n",
    "    train_bins = pd.cut(series_train, bins=np.unique(cuts), include_lowest=True)\n",
    "    test_bins  = pd.cut(series_test,  bins=np.unique(cuts), include_lowest=True)\n",
    "    pt = train_bins.value_counts(normalize=True, sort=False).clip(1e-9)\n",
    "    pe = test_bins.value_counts(normalize=True, sort=False).clip(1e-9)\n",
    "    return float(((pt - pe) * np.log(pt/pe)).sum())\n",
    "\n",
    "if \"test_c\" in globals():\n",
    "    for col in [\"VehPower\",\"VehAge\",\"DrivAge\",\"BonusMalus\",\"Density\"]:\n",
    "        v = psi(train_c[col], test_c[col])\n",
    "        print(f\"PSI {col}: {v:.3f} (>=0.2 tyder på drift)\")\n"
   ]
  },
  {
   "cell_type": "code",
   "execution_count": 76,
   "id": "39311ec7",
   "metadata": {},
   "outputs": [
    {
     "data": {
      "application/vnd.microsoft.datawrangler.viewer.v0+json": {
       "columns": [
        {
         "name": "index",
         "rawType": "object",
         "type": "string"
        },
        {
         "name": "0",
         "rawType": "int64",
         "type": "integer"
        }
       ],
       "ref": "fcbf5ed9-0c8f-4c55-924c-9f6d4085971b",
       "rows": [
        [
         "IDpol",
         "541416"
        ],
        [
         "Density",
         "1606"
        ],
        [
         "rate",
         "201"
        ],
        [
         "BonusMalus",
         "115"
        ],
        [
         "Exposure",
         "112"
        ],
        [
         "DrivAge",
         "83"
        ],
        [
         "VehAge",
         "76"
        ],
        [
         "Region",
         "22"
        ],
        [
         "VehPower",
         "12"
        ],
        [
         "VehBrand",
         "11"
        ],
        [
         "ClaimNb",
         "9"
        ],
        [
         "Area",
         "6"
        ],
        [
         "VehGas",
         "2"
        ]
       ],
       "shape": {
        "columns": 1,
        "rows": 13
       }
      },
      "text/plain": [
       "IDpol         541416\n",
       "Density         1606\n",
       "rate             201\n",
       "BonusMalus       115\n",
       "Exposure         112\n",
       "DrivAge           83\n",
       "VehAge            76\n",
       "Region            22\n",
       "VehPower          12\n",
       "VehBrand          11\n",
       "ClaimNb            9\n",
       "Area               6\n",
       "VehGas             2\n",
       "dtype: int64"
      ]
     },
     "execution_count": 76,
     "metadata": {},
     "output_type": "execute_result"
    }
   ],
   "source": [
    "# Antal distinkte værdier pr. kolonne\n",
    "train_c.nunique().sort_values(ascending=False)\n"
   ]
  },
  {
   "cell_type": "code",
   "execution_count": 60,
   "id": "e02e53c4",
   "metadata": {},
   "outputs": [
    {
     "name": "stdout",
     "output_type": "stream",
     "text": [
      "Porteføljerate: 0.1007\n",
      "Andel med 0 skader: 94.98%\n"
     ]
    }
   ],
   "source": [
    "portfolio_rate = train_c[\"ClaimNb\"].sum() / train_c[\"Exposure\"].sum()\n",
    "zero_share     = (train_c[\"ClaimNb\"]==0).mean()\n",
    "print(f\"Porteføljerate: {portfolio_rate:.4f}\")\n",
    "print(f\"Andel med 0 skader: {zero_share:.2%}\")\n"
   ]
  },
  {
   "cell_type": "code",
   "execution_count": 61,
   "id": "1301012e",
   "metadata": {},
   "outputs": [
    {
     "name": "stdout",
     "output_type": "stream",
     "text": [
      "Exposure > 1: 0\n",
      "Exposure above 1 is dropped\n"
     ]
    }
   ],
   "source": [
    "print(f\"Exposure > 1: {(train_c[\"Exposure\"] > 1).sum()}\" )\n",
    "\n",
    "\n",
    "train_c = train_c[train_c[\"Exposure\"] <= 1]\n",
    "print(\"Exposure above 1 is dropped\")"
   ]
  },
  {
   "cell_type": "code",
   "execution_count": 62,
   "id": "2e1d15df",
   "metadata": {},
   "outputs": [
    {
     "data": {
      "text/plain": [
       "Text(0.5, 0, 'Exposure')"
      ]
     },
     "execution_count": 62,
     "metadata": {},
     "output_type": "execute_result"
    },
    {
     "data": {
      "image/png": "[encoded data removed]",
      "text/plain": [
       "<Figure size 640x480 with 1 Axes>"
      ]
     },
     "metadata": {},
     "output_type": "display_data"
    }
   ],
   "source": [
    "ax = train_c[\"Exposure\"].plot(kind=\"hist\", bins=50, title=\"Exposure\")\n",
    "ax.set_xlabel(\"Exposure\")\n"
   ]
  },
  {
   "cell_type": "code",
   "execution_count": 63,
   "id": "df27e081",
   "metadata": {},
   "outputs": [
    {
     "data": {
      "application/vnd.microsoft.datawrangler.viewer.v0+json": {
       "columns": [
        {
         "name": "ClaimNb",
         "rawType": "int64",
         "type": "integer"
        },
        {
         "name": "count",
         "rawType": "int64",
         "type": "integer"
        }
       ],
       "ref": "c65ebe35-14f1-495f-9a8b-08416a89d5ce",
       "rows": [
        [
         "0",
         "514246"
        ],
        [
         "1",
         "25679"
        ],
        [
         "2",
         "1414"
        ],
        [
         "3",
         "67"
        ],
        [
         "4",
         "4"
        ],
        [
         "5",
         "2"
        ],
        [
         "6",
         "1"
        ],
        [
         "9",
         "1"
        ],
        [
         "11",
         "2"
        ]
       ],
       "shape": {
        "columns": 1,
        "rows": 9
       }
      },
      "text/html": [
       "<div>\n",
       "<style scoped>\n",
       "    .dataframe tbody tr th:only-of-type {\n",
       "        vertical-align: middle;\n",
       "    }\n",
       "\n",
       "    .dataframe tbody tr th {\n",
       "        vertical-align: top;\n",
       "    }\n",
       "\n",
       "    .dataframe thead th {\n",
       "        text-align: right;\n",
       "    }\n",
       "</style>\n",
       "<table border=\"1\" class=\"dataframe\">\n",
       "  <thead>\n",
       "    <tr style=\"text-align: right;\">\n",
       "      <th></th>\n",
       "      <th>count</th>\n",
       "    </tr>\n",
       "    <tr>\n",
       "      <th>ClaimNb</th>\n",
       "      <th></th>\n",
       "    </tr>\n",
       "  </thead>\n",
       "  <tbody>\n",
       "    <tr>\n",
       "      <th>0</th>\n",
       "      <td>514246</td>\n",
       "    </tr>\n",
       "    <tr>\n",
       "      <th>1</th>\n",
       "      <td>25679</td>\n",
       "    </tr>\n",
       "    <tr>\n",
       "      <th>2</th>\n",
       "      <td>1414</td>\n",
       "    </tr>\n",
       "    <tr>\n",
       "      <th>3</th>\n",
       "      <td>67</td>\n",
       "    </tr>\n",
       "    <tr>\n",
       "      <th>4</th>\n",
       "      <td>4</td>\n",
       "    </tr>\n",
       "    <tr>\n",
       "      <th>5</th>\n",
       "      <td>2</td>\n",
       "    </tr>\n",
       "    <tr>\n",
       "      <th>6</th>\n",
       "      <td>1</td>\n",
       "    </tr>\n",
       "    <tr>\n",
       "      <th>9</th>\n",
       "      <td>1</td>\n",
       "    </tr>\n",
       "    <tr>\n",
       "      <th>11</th>\n",
       "      <td>2</td>\n",
       "    </tr>\n",
       "  </tbody>\n",
       "</table>\n",
       "</div>"
      ],
      "text/plain": [
       "          count\n",
       "ClaimNb        \n",
       "0        514246\n",
       "1         25679\n",
       "2          1414\n",
       "3            67\n",
       "4             4\n",
       "5             2\n",
       "6             1\n",
       "9             1\n",
       "11            2"
      ]
     },
     "execution_count": 63,
     "metadata": {},
     "output_type": "execute_result"
    }
   ],
   "source": [
    "(train_c[\"ClaimNb\"].value_counts()\n",
    "        .sort_index()\n",
    "        .to_frame(\"count\"))\n"
   ]
  },
  {
   "cell_type": "code",
   "execution_count": 64,
   "id": "76c7bf0b",
   "metadata": {},
   "outputs": [
    {
     "data": {
      "text/plain": [
       "Text(0.5, 0, 'rate')"
      ]
     },
     "execution_count": 64,
     "metadata": {},
     "output_type": "execute_result"
    },
    {
     "data": {
      "image/png": "[encoded data removed]",
      "text/plain": [
       "<Figure size 640x480 with 1 Axes>"
      ]
     },
     "metadata": {},
     "output_type": "display_data"
    }
   ],
   "source": [
    "train_c[\"rate\"] = train_c[\"ClaimNb\"] / train_c[\"Exposure\"]\n",
    "train_c[\"rate\"].describe()\n",
    "\n",
    "ax = train_c[\"rate\"].clip(upper=train_c[\"rate\"].quantile(0.99)).plot(kind=\"hist\", bins=60,\n",
    "        title=\"Årlig skadefrekvens (clippet p99)\")\n",
    "ax.set_xlabel(\"rate\")\n"
   ]
  },
  {
   "cell_type": "code",
   "execution_count": 83,
   "id": "73983c26",
   "metadata": {},
   "outputs": [
    {
     "name": "stdout",
     "output_type": "stream",
     "text": [
      "(542410, 12) (542410, 12)\n",
      "Overlap i IDpol: 542410\n"
     ]
    }
   ],
   "source": [
    "print(train_c.shape, test_c.shape)\n",
    "print(\"Overlap i IDpol:\", len(set(train_c[\"IDpol\"]) & set(test_c[\"IDpol\"])))\n"
   ]
  },
  {
   "cell_type": "code",
   "execution_count": 86,
   "id": "c438ab6b",
   "metadata": {},
   "outputs": [
    {
     "data": {
      "application/vnd.microsoft.datawrangler.viewer.v0+json": {
       "columns": [
        {
         "name": "DrivAge",
         "rawType": "int64",
         "type": "integer"
        },
        {
         "name": "train",
         "rawType": "float64",
         "type": "float"
        },
        {
         "name": "test",
         "rawType": "float64",
         "type": "float"
        },
        {
         "name": "abs_diff_pp",
         "rawType": "float64",
         "type": "float"
        }
       ],
       "ref": "aeb6d09d-b0fd-4e3f-b768-548d59fd0f0a",
       "rows": [
        [
         "18",
         "0.0011043306723696098",
         "0.0011043306723696098",
         "0.0"
        ],
        [
         "19",
         "0.0034936671521542746",
         "0.0034936671521542746",
         "0.0"
        ],
        [
         "20",
         "0.005449752032595269",
         "0.005449752032595269",
         "0.0"
        ],
        [
         "21",
         "0.00649508674250106",
         "0.00649508674250106",
         "0.0"
        ],
        [
         "22",
         "0.007829870393244962",
         "0.007829870393244962",
         "0.0"
        ],
        [
         "23",
         "0.009227337254106672",
         "0.009227337254106672",
         "0.0"
        ],
        [
         "24",
         "0.010899504065190538",
         "0.010899504065190538",
         "0.0"
        ],
        [
         "25",
         "0.012829778212053613",
         "0.012829778212053613",
         "0.0"
        ],
        [
         "26",
         "0.015121402629007578",
         "0.015121402629007578",
         "0.0"
        ],
        [
         "27",
         "0.017483084751387327",
         "0.017483084751387327",
         "0.0"
        ],
        [
         "28",
         "0.019804207149573202",
         "0.019804207149573202",
         "0.0"
        ],
        [
         "29",
         "0.021559337032871814",
         "0.021559337032871814",
         "0.0"
        ],
        [
         "30",
         "0.022801939492266",
         "0.022801939492266",
         "0.0"
        ],
        [
         "31",
         "0.023364244759499272",
         "0.023364244759499272",
         "0.0"
        ],
        [
         "32",
         "0.02466768680518427",
         "0.02466768680518427",
         "0.0"
        ],
        [
         "33",
         "0.025008757213178225",
         "0.025008757213178225",
         "0.0"
        ],
        [
         "34",
         "0.02506222230416106",
         "0.02506222230416106",
         "0.0"
        ],
        [
         "35",
         "0.024955292122195386",
         "0.024955292122195386",
         "0.0"
        ],
        [
         "36",
         "0.025858667797422612",
         "0.025858667797422612",
         "0.0"
        ],
        [
         "37",
         "0.025532346380044615",
         "0.025532346380044615",
         "0.0"
        ]
       ],
       "shape": {
        "columns": 3,
        "rows": 20
       }
      },
      "text/html": [
       "<div>\n",
       "<style scoped>\n",
       "    .dataframe tbody tr th:only-of-type {\n",
       "        vertical-align: middle;\n",
       "    }\n",
       "\n",
       "    .dataframe tbody tr th {\n",
       "        vertical-align: top;\n",
       "    }\n",
       "\n",
       "    .dataframe thead th {\n",
       "        text-align: right;\n",
       "    }\n",
       "</style>\n",
       "<table border=\"1\" class=\"dataframe\">\n",
       "  <thead>\n",
       "    <tr style=\"text-align: right;\">\n",
       "      <th></th>\n",
       "      <th>train</th>\n",
       "      <th>test</th>\n",
       "      <th>abs_diff_pp</th>\n",
       "    </tr>\n",
       "    <tr>\n",
       "      <th>DrivAge</th>\n",
       "      <th></th>\n",
       "      <th></th>\n",
       "      <th></th>\n",
       "    </tr>\n",
       "  </thead>\n",
       "  <tbody>\n",
       "    <tr>\n",
       "      <th>18</th>\n",
       "      <td>0.001104</td>\n",
       "      <td>0.001104</td>\n",
       "      <td>0.0</td>\n",
       "    </tr>\n",
       "    <tr>\n",
       "      <th>19</th>\n",
       "      <td>0.003494</td>\n",
       "      <td>0.003494</td>\n",
       "      <td>0.0</td>\n",
       "    </tr>\n",
       "    <tr>\n",
       "      <th>20</th>\n",
       "      <td>0.005450</td>\n",
       "      <td>0.005450</td>\n",
       "      <td>0.0</td>\n",
       "    </tr>\n",
       "    <tr>\n",
       "      <th>21</th>\n",
       "      <td>0.006495</td>\n",
       "      <td>0.006495</td>\n",
       "      <td>0.0</td>\n",
       "    </tr>\n",
       "    <tr>\n",
       "      <th>22</th>\n",
       "      <td>0.007830</td>\n",
       "      <td>0.007830</td>\n",
       "      <td>0.0</td>\n",
       "    </tr>\n",
       "    <tr>\n",
       "      <th>23</th>\n",
       "      <td>0.009227</td>\n",
       "      <td>0.009227</td>\n",
       "      <td>0.0</td>\n",
       "    </tr>\n",
       "    <tr>\n",
       "      <th>24</th>\n",
       "      <td>0.010900</td>\n",
       "      <td>0.010900</td>\n",
       "      <td>0.0</td>\n",
       "    </tr>\n",
       "    <tr>\n",
       "      <th>25</th>\n",
       "      <td>0.012830</td>\n",
       "      <td>0.012830</td>\n",
       "      <td>0.0</td>\n",
       "    </tr>\n",
       "    <tr>\n",
       "      <th>26</th>\n",
       "      <td>0.015121</td>\n",
       "      <td>0.015121</td>\n",
       "      <td>0.0</td>\n",
       "    </tr>\n",
       "    <tr>\n",
       "      <th>27</th>\n",
       "      <td>0.017483</td>\n",
       "      <td>0.017483</td>\n",
       "      <td>0.0</td>\n",
       "    </tr>\n",
       "    <tr>\n",
       "      <th>28</th>\n",
       "      <td>0.019804</td>\n",
       "      <td>0.019804</td>\n",
       "      <td>0.0</td>\n",
       "    </tr>\n",
       "    <tr>\n",
       "      <th>29</th>\n",
       "      <td>0.021559</td>\n",
       "      <td>0.021559</td>\n",
       "      <td>0.0</td>\n",
       "    </tr>\n",
       "    <tr>\n",
       "      <th>30</th>\n",
       "      <td>0.022802</td>\n",
       "      <td>0.022802</td>\n",
       "      <td>0.0</td>\n",
       "    </tr>\n",
       "    <tr>\n",
       "      <th>31</th>\n",
       "      <td>0.023364</td>\n",
       "      <td>0.023364</td>\n",
       "      <td>0.0</td>\n",
       "    </tr>\n",
       "    <tr>\n",
       "      <th>32</th>\n",
       "      <td>0.024668</td>\n",
       "      <td>0.024668</td>\n",
       "      <td>0.0</td>\n",
       "    </tr>\n",
       "    <tr>\n",
       "      <th>33</th>\n",
       "      <td>0.025009</td>\n",
       "      <td>0.025009</td>\n",
       "      <td>0.0</td>\n",
       "    </tr>\n",
       "    <tr>\n",
       "      <th>34</th>\n",
       "      <td>0.025062</td>\n",
       "      <td>0.025062</td>\n",
       "      <td>0.0</td>\n",
       "    </tr>\n",
       "    <tr>\n",
       "      <th>35</th>\n",
       "      <td>0.024955</td>\n",
       "      <td>0.024955</td>\n",
       "      <td>0.0</td>\n",
       "    </tr>\n",
       "    <tr>\n",
       "      <th>36</th>\n",
       "      <td>0.025859</td>\n",
       "      <td>0.025859</td>\n",
       "      <td>0.0</td>\n",
       "    </tr>\n",
       "    <tr>\n",
       "      <th>37</th>\n",
       "      <td>0.025532</td>\n",
       "      <td>0.025532</td>\n",
       "      <td>0.0</td>\n",
       "    </tr>\n",
       "  </tbody>\n",
       "</table>\n",
       "</div>"
      ],
      "text/plain": [
       "            train      test  abs_diff_pp\n",
       "DrivAge                                 \n",
       "18       0.001104  0.001104          0.0\n",
       "19       0.003494  0.003494          0.0\n",
       "20       0.005450  0.005450          0.0\n",
       "21       0.006495  0.006495          0.0\n",
       "22       0.007830  0.007830          0.0\n",
       "23       0.009227  0.009227          0.0\n",
       "24       0.010900  0.010900          0.0\n",
       "25       0.012830  0.012830          0.0\n",
       "26       0.015121  0.015121          0.0\n",
       "27       0.017483  0.017483          0.0\n",
       "28       0.019804  0.019804          0.0\n",
       "29       0.021559  0.021559          0.0\n",
       "30       0.022802  0.022802          0.0\n",
       "31       0.023364  0.023364          0.0\n",
       "32       0.024668  0.024668          0.0\n",
       "33       0.025009  0.025009          0.0\n",
       "34       0.025062  0.025062          0.0\n",
       "35       0.024955  0.024955          0.0\n",
       "36       0.025859  0.025859          0.0\n",
       "37       0.025532  0.025532          0.0"
      ]
     },
     "metadata": {},
     "output_type": "display_data"
    }
   ],
   "source": [
    "comp = pd.DataFrame({\n",
    "    \"train\": train_c[\"DrivAge\"].value_counts(normalize=True).sort_index(),\n",
    "    \"test\":  test_c[\"DrivAge\"].value_counts(normalize=True).sort_index(),\n",
    "}).fillna(0.0)\n",
    "comp[\"abs_diff_pp\"] = 100*(comp[\"test\"] - comp[\"train\"])\n",
    "display(comp.head(20))\n"
   ]
  },
  {
   "cell_type": "code",
   "execution_count": 87,
   "id": "88a4d78b",
   "metadata": {},
   "outputs": [
    {
     "name": "stdout",
     "output_type": "stream",
     "text": [
      "VehPower PSI: 0.0\n",
      "VehAge PSI: 0.0\n",
      "DrivAge PSI: 0.0\n",
      "BonusMalus PSI: 0.0\n",
      "Density PSI: 0.0\n"
     ]
    }
   ],
   "source": [
    "import numpy as np, pandas as pd\n",
    "\n",
    "def psi_num(train_s, test_s, bins=10, eps=1e-9):\n",
    "    # Fastsæt bins på train (lige brede kvantiler)\n",
    "    qs = np.linspace(0, 1, bins+1)\n",
    "    cuts = np.unique(train_s.quantile(qs))\n",
    "    train_b = pd.cut(train_s, bins=cuts, include_lowest=True, duplicates=\"drop\")\n",
    "    test_b  = pd.cut(test_s,  bins=cuts, include_lowest=True, duplicates=\"drop\")\n",
    "\n",
    "    pt = train_b.value_counts(normalize=True, sort=False).clip(lower=eps)\n",
    "    pe = test_b.value_counts(normalize=True, sort=False).clip(lower=eps)\n",
    "    return float(((pt - pe) * np.log(pt/pe)).sum())\n",
    "\n",
    "for col in [\"VehPower\",\"VehAge\",\"DrivAge\",\"BonusMalus\",\"Density\"]:\n",
    "    print(col, \"PSI:\", round(psi_num(train_c[col], test_c[col], bins=10), 4))\n"
   ]
  },
  {
   "cell_type": "code",
   "execution_count": 88,
   "id": "bcec4517",
   "metadata": {},
   "outputs": [
    {
     "name": "stdout",
     "output_type": "stream",
     "text": [
      "VehPower: KS=0.000, p=1\n",
      "VehAge: KS=0.000, p=1\n",
      "DrivAge: KS=0.000, p=1\n",
      "BonusMalus: KS=0.000, p=1\n",
      "Density: KS=0.000, p=1\n"
     ]
    }
   ],
   "source": [
    "from scipy.stats import ks_2samp\n",
    "for col in [\"VehPower\",\"VehAge\",\"DrivAge\",\"BonusMalus\",\"Density\"]:\n",
    "    stat, p = ks_2samp(train_c[col].values, test_c[col].values)\n",
    "    print(f\"{col}: KS={stat:.3f}, p={p:.3g}\")\n"
   ]
  },
  {
   "cell_type": "code",
   "execution_count": 89,
   "id": "0c2f80fd",
   "metadata": {},
   "outputs": [
    {
     "name": "stdout",
     "output_type": "stream",
     "text": [
      "Area PSI: 0.0\n",
      "VehBrand PSI: 0.0\n",
      "VehGas PSI: 0.0\n",
      "Region PSI: 0.0\n"
     ]
    }
   ],
   "source": [
    "def psi_cat(train_s, test_s, eps=1e-9):\n",
    "    idx = pd.Index(sorted(set(train_s.unique()) | set(test_s.unique())))\n",
    "    pt = train_s.value_counts(normalize=True).reindex(idx).fillna(0).clip(lower=eps)\n",
    "    pe = test_s.value_counts(normalize=True).reindex(idx).fillna(0).clip(lower=eps)\n",
    "    return float(((pt - pe) * np.log(pt/pe)).sum())\n",
    "\n",
    "for col in [\"Area\",\"VehBrand\",\"VehGas\",\"Region\"]:\n",
    "    print(col, \"PSI:\", round(psi_cat(train_c[col], test_c[col]), 4))\n"
   ]
  }
 ],
 "metadata": {
  "kernelspec": {
   "display_name": "ml",
   "language": "python",
   "name": "python3"
  },
  "language_info": {
   "codemirror_mode": {
    "name": "ipython",
    "version": 3
   },
   "file_extension": ".py",
   "mimetype": "text/x-python",
   "name": "python",
   "nbconvert_exporter": "python",
   "pygments_lexer": "ipython3",
   "version": "3.13.5"
  }
 },
 "nbformat": 4,
 "nbformat_minor": 5
}
