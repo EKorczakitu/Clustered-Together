{
 "cells": [
  {
   "cell_type": "code",
   "execution_count": 11,
   "metadata": {},
   "outputs": [],
   "source": [
    "import sys, os\n",
    "sys.path.append(os.path.abspath(\"..\"))\n",
    "import pandas as pd\n",
    "\n",
    "from preprocessing.preprocessing_utils import preprocess_for_tree"
   ]
  },
  {
   "cell_type": "code",
   "execution_count": 12,
   "metadata": {},
   "outputs": [
    {
     "name": "stdout",
     "output_type": "stream",
     "text": [
      "Train features shape: (541416, 41)\n",
      "Test features shape: (135373, 41)\n"
     ]
    }
   ],
   "source": [
    "train = pd.read_csv(\"../data/claims_train.csv\")\n",
    "test  = pd.read_csv(\"../data/claims_test.csv\")\n",
    "\n",
    "X_tr, y_tr_rate, w_tr = preprocess_for_tree(train)\n",
    "X_te, y_te_rate, w_te = preprocess_for_tree(test)\n",
    "\n",
    "print(\"Train features shape:\", X_tr.shape)\n",
    "print(\"Test features shape:\", X_te.shape)"
   ]
  },
  {
   "cell_type": "code",
   "execution_count": 36,
   "metadata": {},
   "outputs": [
    {
     "data": {
      "application/vnd.microsoft.datawrangler.viewer.v0+json": {
       "columns": [
        {
         "name": "index",
         "rawType": "int64",
         "type": "integer"
        },
        {
         "name": "Exposure",
         "rawType": "float64",
         "type": "float"
        }
       ],
       "ref": "bb1fb33e-50df-4c13-84de-d559d6b9652b",
       "rows": [
        [
         "333",
         "0.0027397260273972"
        ],
        [
         "351",
         "0.00273224"
        ],
        [
         "501",
         "0.0027322404371584"
        ],
        [
         "1050",
         "0.0027322404371584"
        ],
        [
         "1095",
         "0.0027322404371584"
        ],
        [
         "1135",
         "0.0027397260273972"
        ],
        [
         "1360",
         "0.0027397260273972"
        ],
        [
         "1363",
         "0.0027322404371584"
        ],
        [
         "1572",
         "0.0027322404371584"
        ],
        [
         "1655",
         "0.0027397260273972"
        ],
        [
         "1954",
         "0.0027322404371584"
        ],
        [
         "2133",
         "0.002739726"
        ],
        [
         "2294",
         "0.00273224"
        ],
        [
         "2484",
         "0.00273224"
        ],
        [
         "2525",
         "0.0027397260273972"
        ],
        [
         "2660",
         "0.002739726"
        ],
        [
         "2675",
         "0.0027397260273972"
        ],
        [
         "2899",
         "0.0027397260273972"
        ],
        [
         "3403",
         "0.0027397260273972"
        ],
        [
         "3631",
         "0.0027397260273972"
        ],
        [
         "3667",
         "0.0027322404371584"
        ],
        [
         "3702",
         "0.0027397260273972"
        ],
        [
         "3855",
         "0.0027397260273972"
        ],
        [
         "4405",
         "0.0027397260273972"
        ],
        [
         "4440",
         "0.0027322404371584"
        ],
        [
         "4531",
         "0.0027397260273972"
        ],
        [
         "4746",
         "0.0027322404371584"
        ],
        [
         "5078",
         "0.0027397260273972"
        ],
        [
         "5765",
         "0.0027397260273972"
        ],
        [
         "6198",
         "0.0027397260273972"
        ],
        [
         "6225",
         "0.0027322404371584"
        ],
        [
         "6366",
         "0.00273224"
        ],
        [
         "6438",
         "0.0027397260273972"
        ],
        [
         "6505",
         "0.0027397260273972"
        ],
        [
         "6549",
         "0.0027322404371584"
        ],
        [
         "6887",
         "0.002739726"
        ],
        [
         "6904",
         "0.0027322404371584"
        ],
        [
         "6988",
         "0.002739726"
        ],
        [
         "7392",
         "0.0027397260273972"
        ],
        [
         "7474",
         "0.0027397260273972"
        ],
        [
         "7690",
         "0.0027397260273972"
        ],
        [
         "7705",
         "0.0027322404371584"
        ],
        [
         "8037",
         "0.0027397260273972"
        ],
        [
         "8621",
         "0.0027322404371584"
        ],
        [
         "8870",
         "0.0027322404371584"
        ],
        [
         "9078",
         "0.0027322404371584"
        ],
        [
         "9201",
         "0.0027397260273972"
        ],
        [
         "9419",
         "0.0027397260273972"
        ],
        [
         "9847",
         "0.0027397260273972"
        ],
        [
         "10127",
         "0.0027397260273972"
        ]
       ],
       "shape": {
        "columns": 1,
        "rows": 2502
       }
      },
      "text/plain": [
       "333       0.002740\n",
       "351       0.002732\n",
       "501       0.002732\n",
       "1050      0.002732\n",
       "1095      0.002732\n",
       "            ...   \n",
       "540650    0.002740\n",
       "541195    0.002732\n",
       "541360    0.002740\n",
       "541963    0.002732\n",
       "542161    0.002740\n",
       "Name: Exposure, Length: 2502, dtype: float64"
      ]
     },
     "execution_count": 36,
     "metadata": {},
     "output_type": "execute_result"
    }
   ],
   "source": [
    "w_tr[w_tr < 0.003] "
   ]
  }
 ],
 "metadata": {
  "kernelspec": {
   "display_name": "ml-cpu",
   "language": "python",
   "name": "python3"
  },
  "language_info": {
   "codemirror_mode": {
    "name": "ipython",
    "version": 3
   },
   "file_extension": ".py",
   "mimetype": "text/x-python",
   "name": "python",
   "nbconvert_exporter": "python",
   "pygments_lexer": "ipython3",
   "version": "3.11.13"
  }
 },
 "nbformat": 4,
 "nbformat_minor": 2
}
