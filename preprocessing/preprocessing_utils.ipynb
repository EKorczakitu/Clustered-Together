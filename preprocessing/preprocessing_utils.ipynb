{
 "cells": [
  {
   "cell_type": "code",
   "execution_count": null,
   "id": "9afb77c8",
   "metadata": {},
   "outputs": [
    {
     "name": "stdout",
     "output_type": "stream",
     "text": [
      "(541416, 41) (541416,) (541416,)\n",
      "Columns example:\n",
      " Index(['VehPower', 'VehAge', 'DrivAge', 'BonusMalus', 'Area_B', 'Area_C',\n",
      "       'Area_D', 'Area_E', 'Area_F', 'VehGas_Regular'],\n",
      "      dtype='object')\n",
      "y_rate head:\n",
      " 0    0.0\n",
      "1    0.0\n",
      "2    0.0\n",
      "3    0.0\n",
      "4    0.0\n",
      "dtype: float64\n",
      "Weights (Exposure) head:\n",
      " 0    0.43\n",
      "1    0.10\n",
      "2    0.33\n",
      "3    0.56\n",
      "4    0.27\n",
      "Name: Exposure, dtype: float64\n"
     ]
    }
   ],
   "source": [
    "import pandas as pd\n",
    "import numpy as np\n",
    "from sklearn.preprocessing import StandardScaler\n",
    "from sklearn.inspection import permutation_importance\n",
    "import statsmodels.api as sm\n",
    "\n",
    "\n",
    "# -----------------------------\n",
    "# Cleaning\n",
    "# -----------------------------\n",
    "def clean_data(df, drop_exp_above_1=True):\n",
    "    df = df.copy()\n",
    "    if drop_exp_above_1:\n",
    "        df = df[df[\"Exposure\"] <= 1]\n",
    "    df = df.dropna()\n",
    "    return df\n",
    "\n",
    "\n",
    "# -----------------------------\n",
    "# Feature selection (project choices)\n",
    "# -----------------------------\n",
    "def feature_selection(df):\n",
    "    df = df.copy()\n",
    "    # Drop IDs and Density (we decided to keep Area and drop Density/Urbanicity)\n",
    "    drop_cols = [c for c in [\"IDpol\", \"Density\"] if c in df.columns]\n",
    "    return df.drop(columns=drop_cols)\n",
    "\n",
    "def map_topk(series, k=15, other_label=\"Other\"):\n",
    "    counts = series.value_counts()\n",
    "    keep = set(counts.nlargest(k).index)\n",
    "    return series.where(series.isin(keep), other_label)\n",
    "\n",
    "# -----------------------------\n",
    "# Final preprocessing for M1 tree\n",
    "# -----------------------------\n",
    "\n",
    "def encode_categoricals(df):\n",
    "    cat_cols = [\"Area\", \"VehBrand\", \"VehGas\", \"Region\"]\n",
    "    \n",
    "    df = pd.get_dummies(df, columns=cat_cols, drop_first=True)\n",
    "    return df\n",
    "\n",
    "def scale_features(df, features):\n",
    "    scaler = StandardScaler()\n",
    "    df[features] = scaler.fit_transform(df[features])\n",
    "    return df, scaler\n",
    "\n",
    "\n",
    "train = pd.read_csv(\"../data/claims_train.csv\")\n",
    "train = feature_selection(train)\n",
    "# train = scale_features(train, features=[\"VehPower\", \"VehAge\", \"DrivAge\", \"BonusMalus\"])[0] #only for M2 or (M3)\n",
    "train = encode_categoricals(train)\n",
    "train = clean_data(train)\n",
    "train\n",
    "\n",
    "\n"
   ]
  }
 ],
 "metadata": {
  "kernelspec": {
   "display_name": "ml",
   "language": "python",
   "name": "python3"
  },
  "language_info": {
   "codemirror_mode": {
    "name": "ipython",
    "version": 3
   },
   "file_extension": ".py",
   "mimetype": "text/x-python",
   "name": "python",
   "nbconvert_exporter": "python",
   "pygments_lexer": "ipython3",
   "version": "3.13.5"
  }
 },
 "nbformat": 4,
 "nbformat_minor": 5
}
